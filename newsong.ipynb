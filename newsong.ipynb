{
 "cells": [
  {
   "cell_type": "code",
   "execution_count": 74,
   "metadata": {},
   "outputs": [],
   "source": [
    "import os\n",
    "import pandas as pd\n",
    "import numpy as np\n",
    "import seaborn as sns\n",
    "import matplotlib.pyplot as plt\n",
    "import nltk\n",
    "from nltk.stem import WordNetLemmatizer\n",
    "from nltk.corpus import wordnet\n",
    "from nltk.corpus import stopwords\n",
    "from sklearn.feature_extraction.text import CountVectorizer\n",
    "from sklearn.feature_extraction.text import TfidfTransformer\n",
    "from sklearn.feature_extraction.stop_words import ENGLISH_STOP_WORDS\n",
    "from sklearn.model_selection import KFold\n",
    "from wordcloud import WordCloud, STOPWORDS \n",
    "import matplotlib.pyplot as plt \n",
    "import re\n",
    "from nltk.stem.snowball import SnowballStemmer\n",
    "from sklearn.model_selection import GridSearchCV\n",
    "from sklearn.model_selection import train_test_split\n",
    "from sklearn.naive_bayes import MultinomialNB\n",
    "from sklearn.pipeline import Pipeline\n",
    "from tensorflow.keras.preprocessing.text import Tokenizer\n",
    "from tensorflow.keras.preprocessing.sequence import pad_sequences\n",
    "import tensorflow as tf\n",
    "from keras.layers.embeddings import Embedding\n",
    "from tensorflow.keras.models import Sequential\n",
    "from tensorflow.keras.layers import Dense, Embedding, LSTM, SpatialDropout1D\n",
    "from sklearn import metrics\n",
    "from sklearn.metrics import confusion_matrix\n",
    "from sklearn.metrics import classification_report\n",
    "from keras.layers import Bidirectional"
   ]
  },
  {
   "cell_type": "code",
   "execution_count": 75,
   "metadata": {},
   "outputs": [
    {
     "name": "stdout",
     "output_type": "stream",
     "text": [
      "<_io.TextIOWrapper name='misogyny.txt' mode='r' encoding='cp1252'>\n"
     ]
    }
   ],
   "source": [
    "a_file = open(\"misogyny.txt\", \"r\")\n",
    "print(a_file)\n",
    "\n",
    "misogyny = []\n",
    "\n",
    "\n",
    "for line in a_file:\n",
    "\n",
    "    stripped_line = line.strip()\n",
    "\n",
    "    line_list = stripped_line\n",
    "\n",
    "    misogyny.append(line_list)\n",
    "\n",
    "a_file.close()\n",
    "\n",
    "\n",
    "#print(jerry_diags)\n",
    "DF = pd.DataFrame()\n",
    "DF[\"Mis\"] = misogyny"
   ]
  },
  {
   "cell_type": "code",
   "execution_count": 76,
   "metadata": {},
   "outputs": [
    {
     "name": "stdout",
     "output_type": "stream",
     "text": [
      "<_io.TextIOWrapper name='drugs.txt' mode='r' encoding='cp1252'>\n"
     ]
    }
   ],
   "source": [
    "a_file = open(\"drugs.txt\", \"r\")\n",
    "print(a_file)\n",
    "\n",
    "drugs = []\n",
    "\n",
    "for line in a_file:\n",
    "\n",
    "    stripped_line = line.strip()\n",
    "\n",
    "    line_list = stripped_line\n",
    "\n",
    "    drugs.append(line_list)\n",
    "\n",
    "a_file.close()\n",
    "\n",
    "DF_drugs = pd.DataFrame()\n",
    "DF_drugs['drugs'] = drugs\n",
    "\n",
    "\n"
   ]
  },
  {
   "cell_type": "code",
   "execution_count": 77,
   "metadata": {},
   "outputs": [
    {
     "name": "stdout",
     "output_type": "stream",
     "text": [
      "<_io.TextIOWrapper name='violence.txt' mode='r' encoding='cp1252'>\n"
     ]
    }
   ],
   "source": [
    "a_file = open(\"violence.txt\" , \"r\") \n",
    "print(a_file)\n",
    "\n",
    "violence = []\n",
    "\n",
    "for line in a_file:\n",
    "\n",
    "    stripped_line = line.strip()\n",
    "\n",
    "    line_list = stripped_line\n",
    "\n",
    "    violence.append(line_list)\n",
    "\n",
    "a_file.close()\n",
    "\n",
    "DF_violence = pd.DataFrame()\n",
    "DF_violence['violence'] = violence\n",
    "\n",
    "\n",
    "\n",
    "#print(doroth_diags)\n"
   ]
  },
  {
   "cell_type": "code",
   "execution_count": 112,
   "metadata": {},
   "outputs": [
    {
     "name": "stdout",
     "output_type": "stream",
     "text": [
      "<_io.TextIOWrapper name='misogyny song.txt' mode='r' encoding='cp1252'>\n"
     ]
    }
   ],
   "source": [
    "a_file = open(\"misogyny song.txt\" , \"r\") \n",
    "print(a_file)\n",
    "\n",
    "new = []\n",
    "\n",
    "for line in a_file:\n",
    "\n",
    "    stripped_line = line.strip()\n",
    "\n",
    "    line_list = stripped_line\n",
    "\n",
    "    new.append(line_list)\n",
    "\n",
    "a_file.close()\n",
    "\n",
    "DF_new= pd.DataFrame()\n",
    "DF_new['new'] = new\n",
    "\n",
    "\n",
    "\n",
    "#print(doroth_diags)\n"
   ]
  },
  {
   "cell_type": "code",
   "execution_count": 113,
   "metadata": {},
   "outputs": [
    {
     "data": {
      "text/html": [
       "<div>\n",
       "<style scoped>\n",
       "    .dataframe tbody tr th:only-of-type {\n",
       "        vertical-align: middle;\n",
       "    }\n",
       "\n",
       "    .dataframe tbody tr th {\n",
       "        vertical-align: top;\n",
       "    }\n",
       "\n",
       "    .dataframe thead th {\n",
       "        text-align: right;\n",
       "    }\n",
       "</style>\n",
       "<table border=\"1\" class=\"dataframe\">\n",
       "  <thead>\n",
       "    <tr style=\"text-align: right;\">\n",
       "      <th></th>\n",
       "      <th>new</th>\n",
       "    </tr>\n",
       "  </thead>\n",
       "  <tbody>\n",
       "    <tr>\n",
       "      <th>0</th>\n",
       "      <td>She take my money when I'm in need</td>\n",
       "    </tr>\n",
       "    <tr>\n",
       "      <th>1</th>\n",
       "      <td>Yeah, she's a triflin' friend indeed</td>\n",
       "    </tr>\n",
       "    <tr>\n",
       "      <th>2</th>\n",
       "      <td>Oh, she's a gold digger</td>\n",
       "    </tr>\n",
       "    <tr>\n",
       "      <th>3</th>\n",
       "      <td>Way over town, that digs on me</td>\n",
       "    </tr>\n",
       "    <tr>\n",
       "      <th>4</th>\n",
       "      <td>Now, I ain't sayin' she a gold digger</td>\n",
       "    </tr>\n",
       "    <tr>\n",
       "      <th>...</th>\n",
       "      <td>...</td>\n",
       "    </tr>\n",
       "    <tr>\n",
       "      <th>73</th>\n",
       "      <td>Get down girl, go 'head, get down</td>\n",
       "    </tr>\n",
       "    <tr>\n",
       "      <th>74</th>\n",
       "      <td>(I gotta leave) Get down girl, go 'head, get down</td>\n",
       "    </tr>\n",
       "    <tr>\n",
       "      <th>75</th>\n",
       "      <td>(I gotta leave) Get down girl, go 'head, get down</td>\n",
       "    </tr>\n",
       "    <tr>\n",
       "      <th>76</th>\n",
       "      <td>(I gotta leave) Get down girl, go 'head</td>\n",
       "    </tr>\n",
       "    <tr>\n",
       "      <th>77</th>\n",
       "      <td>Let me hear that back</td>\n",
       "    </tr>\n",
       "  </tbody>\n",
       "</table>\n",
       "<p>78 rows × 1 columns</p>\n",
       "</div>"
      ],
      "text/plain": [
       "                                                  new\n",
       "0                  She take my money when I'm in need\n",
       "1                Yeah, she's a triflin' friend indeed\n",
       "2                             Oh, she's a gold digger\n",
       "3                      Way over town, that digs on me\n",
       "4               Now, I ain't sayin' she a gold digger\n",
       "..                                                ...\n",
       "73                  Get down girl, go 'head, get down\n",
       "74  (I gotta leave) Get down girl, go 'head, get down\n",
       "75  (I gotta leave) Get down girl, go 'head, get down\n",
       "76            (I gotta leave) Get down girl, go 'head\n",
       "77                              Let me hear that back\n",
       "\n",
       "[78 rows x 1 columns]"
      ]
     },
     "execution_count": 113,
     "metadata": {},
     "output_type": "execute_result"
    }
   ],
   "source": [
    "DF_new"
   ]
  },
  {
   "cell_type": "code",
   "execution_count": 114,
   "metadata": {},
   "outputs": [],
   "source": [
    "DF.dropna(inplace = True)\n",
    "DF.drop([], inplace = True)\n",
    "DF = DF[~DF.Mis.str.len().eq(0)]\n",
    "DF_drugs = DF_drugs[~DF_drugs.drugs.str.len().eq(0)]\n",
    "DF_violence = DF_violence[~DF_violence.violence.str.len().eq(0)]\n",
    "DF_new = DF_new[~DF_new.new.str.len().eq(0)]"
   ]
  },
  {
   "cell_type": "code",
   "execution_count": 115,
   "metadata": {},
   "outputs": [],
   "source": [
    "stop = set(stopwords.words('english'))\n",
    "\n",
    "lemmatizer = WordNetLemmatizer()"
   ]
  },
  {
   "cell_type": "code",
   "execution_count": 116,
   "metadata": {},
   "outputs": [
    {
     "name": "stderr",
     "output_type": "stream",
     "text": [
      "[nltk_data] Downloading package stopwords to\n",
      "[nltk_data]     C:\\Users\\rahul\\AppData\\Roaming\\nltk_data...\n",
      "[nltk_data]   Package stopwords is already up-to-date!\n",
      "[nltk_data] Downloading package punkt to\n",
      "[nltk_data]     C:\\Users\\rahul\\AppData\\Roaming\\nltk_data...\n",
      "[nltk_data]   Package punkt is already up-to-date!\n",
      "[nltk_data] Downloading package averaged_perceptron_tagger to\n",
      "[nltk_data]     C:\\Users\\rahul\\AppData\\Roaming\\nltk_data...\n",
      "[nltk_data]   Package averaged_perceptron_tagger is already up-to-\n",
      "[nltk_data]       date!\n",
      "[nltk_data] Downloading package wordnet to\n",
      "[nltk_data]     C:\\Users\\rahul\\AppData\\Roaming\\nltk_data...\n",
      "[nltk_data]   Package wordnet is already up-to-date!\n"
     ]
    }
   ],
   "source": [
    "from contextlib import redirect_stdout\n",
    "with redirect_stdout(open(os.devnull, \"w\")):             ### Silence download progressing by re-directing to stdout\n",
    "   nltk.download('stopwords')\n",
    "   nltk.download('punkt')\n",
    "   nltk.download('averaged_perceptron_tagger')\n",
    "   nltk.download('wordnet')\n",
    "   from nltk.corpus import stopwords"
   ]
  },
  {
   "cell_type": "code",
   "execution_count": 117,
   "metadata": {},
   "outputs": [],
   "source": [
    "stop = set(stopwords.words('english'))\n",
    "\n",
    "lemmatizer = WordNetLemmatizer()"
   ]
  },
  {
   "cell_type": "code",
   "execution_count": 118,
   "metadata": {},
   "outputs": [],
   "source": [
    "# function to convert nltk tag to wordnet tag\n",
    "def nltk_tag_to_wordnet_tag(nltk_tag):\n",
    "    if nltk_tag.startswith('J'):\n",
    "        return wordnet.ADJ\n",
    "    elif nltk_tag.startswith('V'):\n",
    "        return wordnet.VERB\n",
    "    elif nltk_tag.startswith('N'):\n",
    "        return wordnet.NOUN\n",
    "    elif nltk_tag.startswith('R'):\n",
    "        return wordnet.ADV\n",
    "    else:          \n",
    "        return None"
   ]
  },
  {
   "cell_type": "code",
   "execution_count": 119,
   "metadata": {},
   "outputs": [],
   "source": [
    "# function to identify & remove unwanted characters from text in \"Combined Description\"\n",
    "temp3 =[]\n",
    "for sentence in DF_new[\"new\"]:\n",
    "    sentence = sentence.lower() #lower case\n",
    "    cleanr = re.compile('<.*?>')\n",
    "    sentence = re.sub(cleanr, ' ', sentence)        #removing HTML tags\n",
    "    sentence = re.sub(r'\\S+@\\S+', 'EmailId', sentence)#removing mail ids\n",
    "    sentence = re.sub(r'\\S+@\\S+', 'https', sentence)#removing https\n",
    "    sentence = re.sub(r'\\S+@\\S+', 'http', sentence)#removing http\n",
    "    sentence = re.sub(r'\\'', '', sentence, re.I|re.A)\n",
    "    sentence = re.sub(r'[0-9]', '', sentence, re.I|re.A)\n",
    "    sentence = re.sub(r'[^a-zA-Z0-9\\s]', ' ', sentence)\n",
    "    sentence = sentence.lower()\n",
    "    sentence = re.sub(r'com ', ' ', sentence, re.I|re.A)\n",
    "    sentence = re.sub(r'Subject: ', ' ', sentence, re.I|re.A)\n",
    "    sentence = re.sub(r'\\[cid:(.*)]', ' ', sentence, re.I|re.A)\n",
    "    sentence = re.sub(r'hello ', ' ', sentence, re.I|re.A)\n",
    "    #sentence = re.sub(r'The information(.*)infection', ' ', sentence, re.I|re.A)  # footer\n",
    "    #sentence = re.sub(r'Endava Limited is a company(.*)or omissions', ' ', sentence,  re.I|re.A)  # footer\n",
    "    #sentence = re.sub(r'The information in this email is confidential and may be legally(.*)interference if you are not the intended recipient', ' ', sentence, re.I|re.A)  # footer\n",
    "    #sentence = re.sub(r'select the following link to view the disclaimer in an alternate language.', ' ', sentence, re.I|re.A)  # disclaimer footer\n",
    "    l_sentence = lemmatize_sentence(sentence)\n",
    "\n",
    "    words = [word for word in l_sentence if word not in stopwords.words('english')]\n",
    "    temp3.append(words)\n",
    "    #print (\"Sentence = \",sentence)"
   ]
  },
  {
   "cell_type": "code",
   "execution_count": 120,
   "metadata": {},
   "outputs": [],
   "source": [
    "df = pd.DataFrame()\n",
    "df['text'] = DF['Mis']\n",
    "df['labels'] = 'Misogyny'\n",
    "\n",
    "df2 = pd.DataFrame()\n",
    "df2['text'] = DF_drugs['drugs']\n",
    "df2['labels'] = 'drugs'\n",
    "\n",
    "df = df.append(df2 , ignore_index=True)\n",
    "\n",
    "\n",
    "df3 = pd.DataFrame()\n",
    "df3['text'] = DF_violence['violence']\n",
    "df3['labels'] = 'violence'\n",
    "df = df.append(df3 , ignore_index=True)\n",
    "\n"
   ]
  },
  {
   "cell_type": "code",
   "execution_count": 121,
   "metadata": {},
   "outputs": [],
   "source": [
    "# function to identify & remove unwanted characters from text in \"Combined Description\"\n",
    "temp1 =[]\n",
    "for sentence in df['text']:\n",
    "    sentence = sentence.lower() #lower case\n",
    "    cleanr = re.compile('<.*?>')\n",
    "    sentence = re.sub(cleanr, ' ', sentence)        #removing HTML tags\n",
    "    sentence = re.sub(r'\\S+@\\S+', 'EmailId', sentence)#removing mail ids\n",
    "    sentence = re.sub(r'\\S+@\\S+', 'https', sentence)#removing https\n",
    "    sentence = re.sub(r'\\S+@\\S+', 'http', sentence)#removing http\n",
    "    sentence = re.sub(r'\\'', '', sentence, re.I|re.A)\n",
    "    sentence = re.sub(r'[0-9]', '', sentence, re.I|re.A)\n",
    "    sentence = re.sub(r'[^a-zA-Z0-9\\s]', ' ', sentence)\n",
    "    sentence = sentence.lower()\n",
    "    sentence = re.sub(r'com ', ' ', sentence, re.I|re.A)\n",
    "    sentence = re.sub(r'Subject: ', ' ', sentence, re.I|re.A)\n",
    "    sentence = re.sub(r'\\[cid:(.*)]', ' ', sentence, re.I|re.A)\n",
    "    sentence = re.sub(r'hello ', ' ', sentence, re.I|re.A)\n",
    "    #sentence = re.sub(r'The information(.*)infection', ' ', sentence, re.I|re.A)  # footer\n",
    "    #sentence = re.sub(r'Endava Limited is a company(.*)or omissions', ' ', sentence,  re.I|re.A)  # footer\n",
    "    #sentence = re.sub(r'The information in this email is confidential and may be legally(.*)interference if you are not the intended recipient', ' ', sentence, re.I|re.A)  # footer\n",
    "    #sentence = re.sub(r'select the following link to view the disclaimer in an alternate language.', ' ', sentence, re.I|re.A)  # disclaimer footer\n",
    "    l_sentence = lemmatize_sentence(sentence)\n",
    "\n",
    "    words = [word for word in l_sentence.split() if word not in stopwords.words('english')]\n",
    "    temp1.append(words)\n",
    "\n",
    "    #print (\"Sentence = \",sentence)"
   ]
  },
  {
   "cell_type": "code",
   "execution_count": 122,
   "metadata": {},
   "outputs": [],
   "source": [
    "def listToString(s):  \n",
    "    \n",
    "    # initialize an empty string \n",
    "    str1 = \" \"  \n",
    "    \n",
    "    # traverse in the string   \n",
    "    for ele in s:  \n",
    "        \n",
    "        str1 += ele   \n",
    "        str1+=' '\n",
    "\n",
    "    \n",
    "    # return string   \n",
    "    return str1  \n",
    "        \n",
    "        \n",
    "# Driver code     \n",
    "for sentence in range (len(temp1)):\n",
    "  df['text'][sentence] = listToString(temp1[sentence])"
   ]
  },
  {
   "cell_type": "code",
   "execution_count": 123,
   "metadata": {},
   "outputs": [
    {
     "data": {
      "text/html": [
       "<div>\n",
       "<style scoped>\n",
       "    .dataframe tbody tr th:only-of-type {\n",
       "        vertical-align: middle;\n",
       "    }\n",
       "\n",
       "    .dataframe tbody tr th {\n",
       "        vertical-align: top;\n",
       "    }\n",
       "\n",
       "    .dataframe thead th {\n",
       "        text-align: right;\n",
       "    }\n",
       "</style>\n",
       "<table border=\"1\" class=\"dataframe\">\n",
       "  <thead>\n",
       "    <tr style=\"text-align: right;\">\n",
       "      <th></th>\n",
       "      <th>text</th>\n",
       "      <th>labels</th>\n",
       "    </tr>\n",
       "  </thead>\n",
       "  <tbody>\n",
       "    <tr>\n",
       "      <th>0</th>\n",
       "      <td>turn around bitch get use</td>\n",
       "      <td>Misogyny</td>\n",
       "    </tr>\n",
       "    <tr>\n",
       "      <th>1</th>\n",
       "      <td>besides aint get nothin good</td>\n",
       "      <td>Misogyny</td>\n",
       "    </tr>\n",
       "    <tr>\n",
       "      <th>2</th>\n",
       "      <td>annies twelve year old two shell whore</td>\n",
       "      <td>Misogyny</td>\n",
       "    </tr>\n",
       "    <tr>\n",
       "      <th>3</th>\n",
       "      <td>im staring tit</td>\n",
       "      <td>Misogyny</td>\n",
       "    </tr>\n",
       "    <tr>\n",
       "      <th>4</th>\n",
       "      <td>wrong way</td>\n",
       "      <td>Misogyny</td>\n",
       "    </tr>\n",
       "  </tbody>\n",
       "</table>\n",
       "</div>"
      ],
      "text/plain": [
       "                                       text    labels\n",
       "0                turn around bitch get use   Misogyny\n",
       "1             besides aint get nothin good   Misogyny\n",
       "2   annies twelve year old two shell whore   Misogyny\n",
       "3                           im staring tit   Misogyny\n",
       "4                                wrong way   Misogyny"
      ]
     },
     "execution_count": 123,
     "metadata": {},
     "output_type": "execute_result"
    }
   ],
   "source": [
    "df.head()"
   ]
  },
  {
   "cell_type": "code",
   "execution_count": 124,
   "metadata": {},
   "outputs": [
    {
     "data": {
      "text/html": [
       "<div>\n",
       "<style scoped>\n",
       "    .dataframe tbody tr th:only-of-type {\n",
       "        vertical-align: middle;\n",
       "    }\n",
       "\n",
       "    .dataframe tbody tr th {\n",
       "        vertical-align: top;\n",
       "    }\n",
       "\n",
       "    .dataframe thead th {\n",
       "        text-align: right;\n",
       "    }\n",
       "</style>\n",
       "<table border=\"1\" class=\"dataframe\">\n",
       "  <thead>\n",
       "    <tr style=\"text-align: right;\">\n",
       "      <th></th>\n",
       "      <th>new</th>\n",
       "    </tr>\n",
       "  </thead>\n",
       "  <tbody>\n",
       "    <tr>\n",
       "      <th>0</th>\n",
       "      <td>She take my money when I'm in need</td>\n",
       "    </tr>\n",
       "    <tr>\n",
       "      <th>1</th>\n",
       "      <td>Yeah, she's a triflin' friend indeed</td>\n",
       "    </tr>\n",
       "    <tr>\n",
       "      <th>2</th>\n",
       "      <td>Oh, she's a gold digger</td>\n",
       "    </tr>\n",
       "    <tr>\n",
       "      <th>3</th>\n",
       "      <td>Way over town, that digs on me</td>\n",
       "    </tr>\n",
       "    <tr>\n",
       "      <th>4</th>\n",
       "      <td>Now, I ain't sayin' she a gold digger</td>\n",
       "    </tr>\n",
       "    <tr>\n",
       "      <th>...</th>\n",
       "      <td>...</td>\n",
       "    </tr>\n",
       "    <tr>\n",
       "      <th>73</th>\n",
       "      <td>Get down girl, go 'head, get down</td>\n",
       "    </tr>\n",
       "    <tr>\n",
       "      <th>74</th>\n",
       "      <td>(I gotta leave) Get down girl, go 'head, get down</td>\n",
       "    </tr>\n",
       "    <tr>\n",
       "      <th>75</th>\n",
       "      <td>(I gotta leave) Get down girl, go 'head, get down</td>\n",
       "    </tr>\n",
       "    <tr>\n",
       "      <th>76</th>\n",
       "      <td>(I gotta leave) Get down girl, go 'head</td>\n",
       "    </tr>\n",
       "    <tr>\n",
       "      <th>77</th>\n",
       "      <td>Let me hear that back</td>\n",
       "    </tr>\n",
       "  </tbody>\n",
       "</table>\n",
       "<p>78 rows × 1 columns</p>\n",
       "</div>"
      ],
      "text/plain": [
       "                                                  new\n",
       "0                  She take my money when I'm in need\n",
       "1                Yeah, she's a triflin' friend indeed\n",
       "2                             Oh, she's a gold digger\n",
       "3                      Way over town, that digs on me\n",
       "4               Now, I ain't sayin' she a gold digger\n",
       "..                                                ...\n",
       "73                  Get down girl, go 'head, get down\n",
       "74  (I gotta leave) Get down girl, go 'head, get down\n",
       "75  (I gotta leave) Get down girl, go 'head, get down\n",
       "76            (I gotta leave) Get down girl, go 'head\n",
       "77                              Let me hear that back\n",
       "\n",
       "[78 rows x 1 columns]"
      ]
     },
     "execution_count": 124,
     "metadata": {},
     "output_type": "execute_result"
    }
   ],
   "source": [
    "DF_new"
   ]
  },
  {
   "cell_type": "code",
   "execution_count": 125,
   "metadata": {},
   "outputs": [],
   "source": [
    "all_words = list()\n",
    "for w in df['text']:\n",
    "    all_words.append(w)"
   ]
  },
  {
   "cell_type": "code",
   "execution_count": 126,
   "metadata": {},
   "outputs": [],
   "source": [
    "all_words = list()\n",
    "for w in DF_new['new']:\n",
    "    all_words.append(w)"
   ]
  },
  {
   "cell_type": "code",
   "execution_count": 24,
   "metadata": {},
   "outputs": [
    {
     "name": "stdout",
     "output_type": "stream",
     "text": [
      "Size of vocabulary: 240\n"
     ]
    }
   ],
   "source": [
    "print('Size of vocabulary: {}'.format(len(set(all_words))))"
   ]
  },
  {
   "cell_type": "code",
   "execution_count": 127,
   "metadata": {},
   "outputs": [
    {
     "name": "stdout",
     "output_type": "stream",
     "text": [
      "Size of vocabulary: 55\n"
     ]
    }
   ],
   "source": [
    "print('Size of vocabulary: {}'.format(len(set(all_words))))"
   ]
  },
  {
   "cell_type": "code",
   "execution_count": 128,
   "metadata": {},
   "outputs": [],
   "source": [
    "index_dict = dict()\n",
    "count = 1\n",
    "index_dict['<unk>'] = 0\n",
    "for word in set(all_words):\n",
    "    index_dict[word] = count\n",
    "    count += 1"
   ]
  },
  {
   "cell_type": "code",
   "execution_count": 129,
   "metadata": {},
   "outputs": [],
   "source": [
    "from sklearn import preprocessing\n",
    "encoder = preprocessing.LabelEncoder()\n",
    "Y = encoder.fit_transform(df[\"labels\"])"
   ]
  },
  {
   "cell_type": "code",
   "execution_count": 27,
   "metadata": {},
   "outputs": [
    {
     "name": "stdout",
     "output_type": "stream",
     "text": [
      "0 52 94 117\n"
     ]
    }
   ],
   "source": [
    "count1 = 0\n",
    "count2 = 0\n",
    "count3 = 0\n",
    "count4 = 0\n",
    "for i in Y:\n",
    "  if i == 3:\n",
    "    count1+=1\n",
    "  elif i == 2:\n",
    "    count2+=1\n",
    "  elif i == 1:\n",
    "    count3 += 1\n",
    "  elif i == 0:\n",
    "    count4+=1\n",
    "print(count1 , count2 , count3 , count4)"
   ]
  },
  {
   "cell_type": "code",
   "execution_count": 28,
   "metadata": {},
   "outputs": [
    {
     "data": {
      "text/plain": [
       "0                    turn around bitch get use \n",
       "1                 besides aint get nothin good \n",
       "2       annies twelve year old two shell whore \n",
       "3                                  im star tit \n",
       "4                                    wrong way \n",
       "                         ...                   \n",
       "258            pistol whip till fell conscious \n",
       "259                 shes bloody layin red shit \n",
       "260     bitch press charge guarantee shes dead \n",
       "261                       first time play last \n",
       "262               yo dont interrupt im whoopin \n",
       "Name: text, Length: 263, dtype: object"
      ]
     },
     "execution_count": 28,
     "metadata": {},
     "output_type": "execute_result"
    }
   ],
   "source": [
    "df['text']"
   ]
  },
  {
   "cell_type": "code",
   "execution_count": 130,
   "metadata": {},
   "outputs": [
    {
     "data": {
      "text/plain": [
       "55"
      ]
     },
     "execution_count": 130,
     "metadata": {},
     "output_type": "execute_result"
    }
   ],
   "source": [
    "(len(set(all_words)))"
   ]
  },
  {
   "cell_type": "code",
   "execution_count": 131,
   "metadata": {},
   "outputs": [
    {
     "name": "stderr",
     "output_type": "stream",
     "text": [
      "C:\\Users\\rahul\\anaconda3\\lib\\site-packages\\seaborn\\distributions.py:2551: FutureWarning: `distplot` is a deprecated function and will be removed in a future version. Please adapt your code to use either `displot` (a figure-level function with similar flexibility) or `histplot` (an axes-level function for histograms).\n",
      "  warnings.warn(msg, FutureWarning)\n"
     ]
    },
    {
     "data": {
      "text/plain": [
       "<AxesSubplot:ylabel='Density'>"
      ]
     },
     "execution_count": 131,
     "metadata": {},
     "output_type": "execute_result"
    },
    {
     "data": {
      "image/png": "[encoded data removed]",
      "text/plain": [
       "<Figure size 432x288 with 1 Axes>"
      ]
     },
     "metadata": {
      "needs_background": "light"
     },
     "output_type": "display_data"
    }
   ],
   "source": [
    "vocab_size = (len(set(all_words)))  # There are 6655 words in total\n",
    "tokenizer = tf.keras.preprocessing.text.Tokenizer(num_words=vocab_size)\n",
    "tokenizer.fit_on_texts(DF_new['new'])\n",
    "\n",
    "train_inputs = tokenizer.texts_to_sequences(DF_new['new'])\n",
    "sns.distplot([len(l) for l in train_inputs])"
   ]
  },
  {
   "cell_type": "code",
   "execution_count": 139,
   "metadata": {},
   "outputs": [
    {
     "name": "stdout",
     "output_type": "stream",
     "text": [
      "Number of Samples: 78\n",
      "[ 0  0  0  0  0  0  0  0  0  0  0  0  0  0  0  0  0  0  0  0  0  0  0  0\n",
      "  0  0  0  0  0  0  0  0  0  0  0  0  0  0  0  0  0  0  0  0  0  0  0  0\n",
      "  0  0  0  0 11 18  7]\n",
      "Number of Labels:  78\n",
      "\"Far as girls, you got a flock\"\n"
     ]
    }
   ],
   "source": [
    "X = tokenizer.texts_to_sequences(DF_new['new'])\n",
    "X = pad_sequences(X, maxlen = len(set(all_words)))\n",
    "y = np.asarray(DF_new['new'])\n",
    "\n",
    "print(\"Number of Samples:\", len(X))\n",
    "print(X[15])\n",
    "print(\"Number of Labels: \", len(y))\n",
    "print(y[15])\n"
   ]
  },
  {
   "cell_type": "code",
   "execution_count": 31,
   "metadata": {},
   "outputs": [
    {
     "name": "stdout",
     "output_type": "stream",
     "text": [
      "Number of Samples: 263\n",
      "[ 0  0  0  0  0  0  0  0  0  0  0  0  0  0  0  0  0  0  0  0  0  0  0  0\n",
      "  0  0  0  0  0  0  0  0  0  0  0  0  0  0  0  0  0  0  0  0  0  0  0  0\n",
      "  0  0  0  0  0  0  0  0  0  0  0  0  0  0  0  0  0  0  0  0  0  0  0  0\n",
      "  0  0  0  0  0  0  0  0  0  0  0  0  0  0  0  0  0  0  0  0  0  0  0  0\n",
      "  0  0  0  0  0  0  0  0  0  0  0  0  0  0  0  0  0  0  0  0  0  0  0  0\n",
      "  0  0  0  0  0  0  0  0  0  0  0  0  0  0  0  0  0  0  0  0  0  0  0  0\n",
      "  0  0  0  0  0  0  0  0  0  0  0  0  0  0  0  0  0  0  0  0  0  0  0  0\n",
      "  0  0  0  0  0  0  0  0  0  0  0  0  0  0  0  0  0  0  0  0  0  0  0  0\n",
      "  0  0  0  0  0  0  0  0  0  0  0  0  0  0  0  0  0  0  0  0  0  0  0  0\n",
      "  0  0  0  0  0  0  0  0  0  0  0  0  0  0  0  0  0  0  0  0  0  0 22 75]\n",
      "Number of Labels:  263\n",
      " need dope \n"
     ]
    }
   ],
   "source": [
    "X = tokenizer.texts_to_sequences(df['text'])\n",
    "X = pad_sequences(X, maxlen = len(set(all_words)))\n",
    "y = np.asarray(df['text'])\n",
    "\n",
    "print(\"Number of Samples:\", len(X))\n",
    "print(X[200])\n",
    "print(\"Number of Labels: \", len(y))\n",
    "print(y[200])"
   ]
  },
  {
   "cell_type": "code",
   "execution_count": 32,
   "metadata": {},
   "outputs": [
    {
     "name": "stdout",
     "output_type": "stream",
     "text": [
      "(210, 240) (210,)\n",
      "(53, 240) (53,)\n"
     ]
    }
   ],
   "source": [
    "X_train, X_test, Y_train, Y_test = train_test_split(X,Y, test_size = 0.2, random_state = 42)\n",
    "print(X_train.shape,Y_train.shape)\n",
    "print(X_test.shape,Y_test.shape)"
   ]
  },
  {
   "cell_type": "code",
   "execution_count": 133,
   "metadata": {},
   "outputs": [
    {
     "data": {
      "text/plain": [
       "<tensorflow.python.keras.layers.embeddings.Embedding at 0x217d11db910>"
      ]
     },
     "execution_count": 133,
     "metadata": {},
     "output_type": "execute_result"
    }
   ],
   "source": [
    "Embedding((len(set(all_words))), 32, input_length= len(set(all_words)))"
   ]
  },
  {
   "cell_type": "code",
   "execution_count": 134,
   "metadata": {},
   "outputs": [
    {
     "name": "stdout",
     "output_type": "stream",
     "text": [
      "Model: \"sequential_2\"\n",
      "_________________________________________________________________\n",
      "Layer (type)                 Output Shape              Param #   \n",
      "=================================================================\n",
      "embedding_5 (Embedding)      (None, 55, 128)           7040      \n",
      "_________________________________________________________________\n",
      "spatial_dropout1d_2 (Spatial (None, 55, 128)           0         \n",
      "_________________________________________________________________\n",
      "lstm_2 (LSTM)                (None, 196)               254800    \n",
      "_________________________________________________________________\n",
      "dense_2 (Dense)              (None, 3)                 591       \n",
      "=================================================================\n",
      "Total params: 262,431\n",
      "Trainable params: 262,431\n",
      "Non-trainable params: 0\n",
      "_________________________________________________________________\n",
      "None\n"
     ]
    }
   ],
   "source": [
    "embed_dim = 128\n",
    "lstm_out = 196\n",
    "\n",
    "model = Sequential()\n",
    "model.add(Embedding(vocab_size, embed_dim,input_length = len(set(all_words))))\n",
    "model.add(SpatialDropout1D(0.4))\n",
    "model.add(LSTM(lstm_out, dropout=0.2, recurrent_dropout=0))\n",
    "model.add(Dense(3,activation='softmax'))\n",
    "model.compile(loss = 'sparse_categorical_crossentropy', optimizer='adam',metrics = ['accuracy'])\n",
    "print(model.summary())"
   ]
  },
  {
   "cell_type": "code",
   "execution_count": 35,
   "metadata": {},
   "outputs": [
    {
     "name": "stdout",
     "output_type": "stream",
     "text": [
      "('Failed to import pydot. You must `pip install pydot` and install graphviz (https://graphviz.gitlab.io/download/), ', 'for `pydotprint` to work.')\n"
     ]
    }
   ],
   "source": [
    "tf.keras.utils.plot_model(\n",
    "    model, to_file='model.png', show_shapes=False, show_dtype=False,\n",
    "    show_layer_names=True, rankdir='TB', expand_nested=False, dpi=96\n",
    ")"
   ]
  },
  {
   "cell_type": "code",
   "execution_count": 36,
   "metadata": {},
   "outputs": [
    {
     "name": "stdout",
     "output_type": "stream",
     "text": [
      "Epoch 1/20\n",
      "5/5 - 13s - loss: 1.3522 - accuracy: 0.3000 - val_loss: 1.1983 - val_accuracy: 0.4906\n",
      "Epoch 2/20\n",
      "5/5 - 3s - loss: 1.1419 - accuracy: 0.4333 - val_loss: 1.0386 - val_accuracy: 0.4906\n",
      "Epoch 3/20\n",
      "5/5 - 3s - loss: 1.0645 - accuracy: 0.4571 - val_loss: 1.0512 - val_accuracy: 0.4906\n",
      "Epoch 4/20\n",
      "5/5 - 3s - loss: 1.0263 - accuracy: 0.4429 - val_loss: 1.0164 - val_accuracy: 0.6981\n",
      "Epoch 5/20\n",
      "5/5 - 3s - loss: 0.9920 - accuracy: 0.6810 - val_loss: 0.9820 - val_accuracy: 0.5283\n",
      "Epoch 6/20\n",
      "5/5 - 3s - loss: 0.9568 - accuracy: 0.4381 - val_loss: 0.9533 - val_accuracy: 0.6604\n",
      "Epoch 7/20\n",
      "5/5 - 3s - loss: 0.8996 - accuracy: 0.8048 - val_loss: 0.9200 - val_accuracy: 0.7358\n",
      "Epoch 8/20\n",
      "5/5 - 3s - loss: 0.8121 - accuracy: 0.8238 - val_loss: 0.8587 - val_accuracy: 0.6792\n",
      "Epoch 9/20\n",
      "5/5 - 3s - loss: 0.6975 - accuracy: 0.8524 - val_loss: 0.9627 - val_accuracy: 0.5094\n",
      "Epoch 10/20\n",
      "5/5 - 3s - loss: 0.6484 - accuracy: 0.7952 - val_loss: 0.7871 - val_accuracy: 0.6792\n",
      "Epoch 11/20\n",
      "5/5 - 3s - loss: 0.5264 - accuracy: 0.8619 - val_loss: 0.7624 - val_accuracy: 0.6604\n",
      "Epoch 12/20\n",
      "5/5 - 3s - loss: 0.4258 - accuracy: 0.9238 - val_loss: 0.7469 - val_accuracy: 0.7170\n",
      "Epoch 13/20\n",
      "5/5 - 3s - loss: 0.3718 - accuracy: 0.8762 - val_loss: 0.5894 - val_accuracy: 0.7736\n",
      "Epoch 14/20\n",
      "5/5 - 3s - loss: 0.2531 - accuracy: 0.9476 - val_loss: 0.6351 - val_accuracy: 0.6981\n",
      "Epoch 15/20\n",
      "5/5 - 3s - loss: 0.2143 - accuracy: 0.9667 - val_loss: 0.5996 - val_accuracy: 0.7736\n",
      "Epoch 16/20\n",
      "5/5 - 3s - loss: 0.1433 - accuracy: 0.9571 - val_loss: 0.6109 - val_accuracy: 0.7547\n",
      "Epoch 17/20\n",
      "5/5 - 3s - loss: 0.1052 - accuracy: 0.9952 - val_loss: 0.5738 - val_accuracy: 0.7925\n",
      "Epoch 18/20\n",
      "5/5 - 3s - loss: 0.0714 - accuracy: 0.9762 - val_loss: 0.5994 - val_accuracy: 0.7547\n",
      "Epoch 19/20\n",
      "5/5 - 3s - loss: 0.0548 - accuracy: 0.9952 - val_loss: 0.5865 - val_accuracy: 0.7736\n",
      "Epoch 20/20\n",
      "5/5 - 3s - loss: 0.0449 - accuracy: 0.9857 - val_loss: 0.5773 - val_accuracy: 0.7925\n"
     ]
    }
   ],
   "source": [
    "batch_size = 32\n",
    "history = model.fit(X_train, Y_train, validation_data=(X_test, Y_test), shuffle = True,  epochs = 20, batch_size= 50, verbose = 2)"
   ]
  },
  {
   "cell_type": "code",
   "execution_count": 37,
   "metadata": {},
   "outputs": [
    {
     "data": {
      "image/png": "[encoded data removed]",
      "text/plain": [
       "<Figure size 432x288 with 1 Axes>"
      ]
     },
     "metadata": {
      "needs_background": "light"
     },
     "output_type": "display_data"
    },
    {
     "data": {
      "image/png": "[encoded data removed]",
      "text/plain": [
       "<Figure size 432x288 with 1 Axes>"
      ]
     },
     "metadata": {
      "needs_background": "light"
     },
     "output_type": "display_data"
    }
   ],
   "source": [
    "plt.plot(history.history['accuracy'])\n",
    "plt.plot(history.history['val_accuracy'])\n",
    "\n",
    "plt.title('model accuracy')\n",
    "plt.ylabel('accuracy')\n",
    "plt.xlabel('epoch')\n",
    "plt.legend(['train','test'], loc='upper left')\n",
    "plt.show()\n",
    "\n",
    "plt.plot(history.history['loss'])\n",
    "plt.plot(history.history['val_loss'])\n",
    "\n",
    "plt.title('model loss')\n",
    "plt.ylabel('loss')\n",
    "plt.xlabel('epoch')\n",
    "plt.legend(['train','test'], loc='upper left')\n",
    "plt.show()"
   ]
  },
  {
   "cell_type": "code",
   "execution_count": 135,
   "metadata": {},
   "outputs": [],
   "source": [
    "# predict probabilities for test set\n",
    "Y_pred = model.predict(X, verbose=0)"
   ]
  },
  {
   "cell_type": "code",
   "execution_count": 110,
   "metadata": {},
   "outputs": [
    {
     "ename": "ValueError",
     "evalue": "Found input variables with inconsistent numbers of samples: [53, 76]",
     "output_type": "error",
     "traceback": [
      "\u001b[1;31m---------------------------------------------------------------------------\u001b[0m",
      "\u001b[1;31mValueError\u001b[0m                                Traceback (most recent call last)",
      "\u001b[1;32m<ipython-input-110-61418ebdca91>\u001b[0m in \u001b[0;36m<module>\u001b[1;34m\u001b[0m\n\u001b[1;32m----> 1\u001b[1;33m \u001b[0mprint\u001b[0m\u001b[1;33m(\u001b[0m\u001b[0mmetrics\u001b[0m\u001b[1;33m.\u001b[0m\u001b[0mclassification_report\u001b[0m \u001b[1;33m(\u001b[0m\u001b[0mY_test\u001b[0m\u001b[1;33m,\u001b[0m \u001b[0mnp\u001b[0m\u001b[1;33m.\u001b[0m\u001b[0margmax\u001b[0m\u001b[1;33m(\u001b[0m\u001b[0mY_pred\u001b[0m\u001b[1;33m,\u001b[0m \u001b[0maxis\u001b[0m \u001b[1;33m=\u001b[0m \u001b[1;36m1\u001b[0m\u001b[1;33m)\u001b[0m\u001b[1;33m,\u001b[0m\u001b[0mzero_division\u001b[0m\u001b[1;33m=\u001b[0m\u001b[1;36m1\u001b[0m\u001b[1;33m,\u001b[0m\u001b[0mtarget_names\u001b[0m\u001b[1;33m=\u001b[0m\u001b[0mnp\u001b[0m\u001b[1;33m.\u001b[0m\u001b[0munique\u001b[0m\u001b[1;33m(\u001b[0m\u001b[0mencoder\u001b[0m\u001b[1;33m.\u001b[0m\u001b[0minverse_transform\u001b[0m\u001b[1;33m(\u001b[0m\u001b[0mY_test\u001b[0m\u001b[1;33m)\u001b[0m\u001b[1;33m)\u001b[0m\u001b[1;33m)\u001b[0m\u001b[1;33m)\u001b[0m\u001b[1;33m\u001b[0m\u001b[1;33m\u001b[0m\u001b[0m\n\u001b[0m",
      "\u001b[1;32m~\\anaconda3\\lib\\site-packages\\sklearn\\utils\\validation.py\u001b[0m in \u001b[0;36minner_f\u001b[1;34m(*args, **kwargs)\u001b[0m\n\u001b[0;32m     70\u001b[0m                           FutureWarning)\n\u001b[0;32m     71\u001b[0m         \u001b[0mkwargs\u001b[0m\u001b[1;33m.\u001b[0m\u001b[0mupdate\u001b[0m\u001b[1;33m(\u001b[0m\u001b[1;33m{\u001b[0m\u001b[0mk\u001b[0m\u001b[1;33m:\u001b[0m \u001b[0marg\u001b[0m \u001b[1;32mfor\u001b[0m \u001b[0mk\u001b[0m\u001b[1;33m,\u001b[0m \u001b[0marg\u001b[0m \u001b[1;32min\u001b[0m \u001b[0mzip\u001b[0m\u001b[1;33m(\u001b[0m\u001b[0msig\u001b[0m\u001b[1;33m.\u001b[0m\u001b[0mparameters\u001b[0m\u001b[1;33m,\u001b[0m \u001b[0margs\u001b[0m\u001b[1;33m)\u001b[0m\u001b[1;33m}\u001b[0m\u001b[1;33m)\u001b[0m\u001b[1;33m\u001b[0m\u001b[1;33m\u001b[0m\u001b[0m\n\u001b[1;32m---> 72\u001b[1;33m         \u001b[1;32mreturn\u001b[0m \u001b[0mf\u001b[0m\u001b[1;33m(\u001b[0m\u001b[1;33m**\u001b[0m\u001b[0mkwargs\u001b[0m\u001b[1;33m)\u001b[0m\u001b[1;33m\u001b[0m\u001b[1;33m\u001b[0m\u001b[0m\n\u001b[0m\u001b[0;32m     73\u001b[0m     \u001b[1;32mreturn\u001b[0m \u001b[0minner_f\u001b[0m\u001b[1;33m\u001b[0m\u001b[1;33m\u001b[0m\u001b[0m\n\u001b[0;32m     74\u001b[0m \u001b[1;33m\u001b[0m\u001b[0m\n",
      "\u001b[1;32m~\\anaconda3\\lib\\site-packages\\sklearn\\metrics\\_classification.py\u001b[0m in \u001b[0;36mclassification_report\u001b[1;34m(y_true, y_pred, labels, target_names, sample_weight, digits, output_dict, zero_division)\u001b[0m\n\u001b[0;32m   1927\u001b[0m     \"\"\"\n\u001b[0;32m   1928\u001b[0m \u001b[1;33m\u001b[0m\u001b[0m\n\u001b[1;32m-> 1929\u001b[1;33m     \u001b[0my_type\u001b[0m\u001b[1;33m,\u001b[0m \u001b[0my_true\u001b[0m\u001b[1;33m,\u001b[0m \u001b[0my_pred\u001b[0m \u001b[1;33m=\u001b[0m \u001b[0m_check_targets\u001b[0m\u001b[1;33m(\u001b[0m\u001b[0my_true\u001b[0m\u001b[1;33m,\u001b[0m \u001b[0my_pred\u001b[0m\u001b[1;33m)\u001b[0m\u001b[1;33m\u001b[0m\u001b[1;33m\u001b[0m\u001b[0m\n\u001b[0m\u001b[0;32m   1930\u001b[0m \u001b[1;33m\u001b[0m\u001b[0m\n\u001b[0;32m   1931\u001b[0m     \u001b[0mlabels_given\u001b[0m \u001b[1;33m=\u001b[0m \u001b[1;32mTrue\u001b[0m\u001b[1;33m\u001b[0m\u001b[1;33m\u001b[0m\u001b[0m\n",
      "\u001b[1;32m~\\anaconda3\\lib\\site-packages\\sklearn\\metrics\\_classification.py\u001b[0m in \u001b[0;36m_check_targets\u001b[1;34m(y_true, y_pred)\u001b[0m\n\u001b[0;32m     79\u001b[0m     \u001b[0my_pred\u001b[0m \u001b[1;33m:\u001b[0m \u001b[0marray\u001b[0m \u001b[1;32mor\u001b[0m \u001b[0mindicator\u001b[0m \u001b[0mmatrix\u001b[0m\u001b[1;33m\u001b[0m\u001b[1;33m\u001b[0m\u001b[0m\n\u001b[0;32m     80\u001b[0m     \"\"\"\n\u001b[1;32m---> 81\u001b[1;33m     \u001b[0mcheck_consistent_length\u001b[0m\u001b[1;33m(\u001b[0m\u001b[0my_true\u001b[0m\u001b[1;33m,\u001b[0m \u001b[0my_pred\u001b[0m\u001b[1;33m)\u001b[0m\u001b[1;33m\u001b[0m\u001b[1;33m\u001b[0m\u001b[0m\n\u001b[0m\u001b[0;32m     82\u001b[0m     \u001b[0mtype_true\u001b[0m \u001b[1;33m=\u001b[0m \u001b[0mtype_of_target\u001b[0m\u001b[1;33m(\u001b[0m\u001b[0my_true\u001b[0m\u001b[1;33m)\u001b[0m\u001b[1;33m\u001b[0m\u001b[1;33m\u001b[0m\u001b[0m\n\u001b[0;32m     83\u001b[0m     \u001b[0mtype_pred\u001b[0m \u001b[1;33m=\u001b[0m \u001b[0mtype_of_target\u001b[0m\u001b[1;33m(\u001b[0m\u001b[0my_pred\u001b[0m\u001b[1;33m)\u001b[0m\u001b[1;33m\u001b[0m\u001b[1;33m\u001b[0m\u001b[0m\n",
      "\u001b[1;32m~\\anaconda3\\lib\\site-packages\\sklearn\\utils\\validation.py\u001b[0m in \u001b[0;36mcheck_consistent_length\u001b[1;34m(*arrays)\u001b[0m\n\u001b[0;32m    253\u001b[0m     \u001b[0muniques\u001b[0m \u001b[1;33m=\u001b[0m \u001b[0mnp\u001b[0m\u001b[1;33m.\u001b[0m\u001b[0munique\u001b[0m\u001b[1;33m(\u001b[0m\u001b[0mlengths\u001b[0m\u001b[1;33m)\u001b[0m\u001b[1;33m\u001b[0m\u001b[1;33m\u001b[0m\u001b[0m\n\u001b[0;32m    254\u001b[0m     \u001b[1;32mif\u001b[0m \u001b[0mlen\u001b[0m\u001b[1;33m(\u001b[0m\u001b[0muniques\u001b[0m\u001b[1;33m)\u001b[0m \u001b[1;33m>\u001b[0m \u001b[1;36m1\u001b[0m\u001b[1;33m:\u001b[0m\u001b[1;33m\u001b[0m\u001b[1;33m\u001b[0m\u001b[0m\n\u001b[1;32m--> 255\u001b[1;33m         raise ValueError(\"Found input variables with inconsistent numbers of\"\n\u001b[0m\u001b[0;32m    256\u001b[0m                          \" samples: %r\" % [int(l) for l in lengths])\n\u001b[0;32m    257\u001b[0m \u001b[1;33m\u001b[0m\u001b[0m\n",
      "\u001b[1;31mValueError\u001b[0m: Found input variables with inconsistent numbers of samples: [53, 76]"
     ]
    }
   ],
   "source": [
    "print(metrics.classification_report (Y_test, np.argmax(Y_pred, axis = 1),zero_division=1,target_names=np.unique(encoder.inverse_transform(Y_test))))"
   ]
  },
  {
   "cell_type": "code",
   "execution_count": 136,
   "metadata": {},
   "outputs": [
    {
     "data": {
      "text/plain": [
       "array([[0.33544028, 0.33443987, 0.33011985],\n",
       "       [0.3347597 , 0.3364443 , 0.328796  ],\n",
       "       [0.3385195 , 0.3325232 , 0.32895732],\n",
       "       [0.33960742, 0.33138698, 0.32900563],\n",
       "       [0.3371415 , 0.33109826, 0.33176023],\n",
       "       [0.33297262, 0.33240137, 0.334626  ],\n",
       "       [0.33691162, 0.3303363 , 0.3327521 ],\n",
       "       [0.33297262, 0.33240137, 0.334626  ],\n",
       "       [0.33180666, 0.33524385, 0.3329494 ],\n",
       "       [0.33180666, 0.33524385, 0.3329494 ],\n",
       "       [0.33180666, 0.33524385, 0.3329494 ],\n",
       "       [0.333891  , 0.33407104, 0.3320379 ],\n",
       "       [0.3365319 , 0.33439192, 0.32907614],\n",
       "       [0.33567202, 0.33588144, 0.32844657],\n",
       "       [0.33500215, 0.33394146, 0.33105642],\n",
       "       [0.33722162, 0.33567905, 0.32709932],\n",
       "       [0.33434796, 0.3362529 , 0.32939917],\n",
       "       [0.33763555, 0.33355272, 0.32881168],\n",
       "       [0.33672234, 0.33354795, 0.3297297 ],\n",
       "       [0.33653277, 0.3332682 , 0.3301991 ],\n",
       "       [0.33389294, 0.334865  , 0.33124208],\n",
       "       [0.3318809 , 0.33666518, 0.33145392],\n",
       "       [0.33634707, 0.33332786, 0.33032504],\n",
       "       [0.33693263, 0.33233738, 0.33073005],\n",
       "       [0.34129056, 0.33330697, 0.32540253],\n",
       "       [0.33677053, 0.33641198, 0.32681748],\n",
       "       [0.33610836, 0.33262458, 0.33126703],\n",
       "       [0.3357017 , 0.3354994 , 0.32879892],\n",
       "       [0.33811   , 0.33193457, 0.32995543],\n",
       "       [0.3371415 , 0.33109826, 0.33176023],\n",
       "       [0.33297262, 0.33240137, 0.334626  ],\n",
       "       [0.33691162, 0.3303363 , 0.3327521 ],\n",
       "       [0.33297262, 0.33240137, 0.334626  ],\n",
       "       [0.33180666, 0.33524385, 0.3329494 ],\n",
       "       [0.33180666, 0.33524385, 0.3329494 ],\n",
       "       [0.33180666, 0.33524385, 0.3329494 ],\n",
       "       [0.333891  , 0.33407104, 0.3320379 ],\n",
       "       [0.33452952, 0.33783594, 0.32763454],\n",
       "       [0.335558  , 0.33543688, 0.32900506],\n",
       "       [0.33506486, 0.3317869 , 0.33314827],\n",
       "       [0.3357155 , 0.33293432, 0.33135015],\n",
       "       [0.33829862, 0.33547702, 0.3262244 ],\n",
       "       [0.3352285 , 0.3347574 , 0.33001414],\n",
       "       [0.33468142, 0.3371864 , 0.32813224],\n",
       "       [0.3357597 , 0.33500567, 0.32923466],\n",
       "       [0.33518443, 0.33654645, 0.32826912],\n",
       "       [0.33666387, 0.33534056, 0.32799557],\n",
       "       [0.3370798 , 0.33336127, 0.32955903],\n",
       "       [0.33596006, 0.3357133 , 0.32832673],\n",
       "       [0.338419  , 0.3346089 , 0.3269721 ],\n",
       "       [0.335434  , 0.33496124, 0.32960472],\n",
       "       [0.33452952, 0.33783594, 0.32763454],\n",
       "       [0.33444685, 0.33306232, 0.3324908 ],\n",
       "       [0.3371415 , 0.33109826, 0.33176023],\n",
       "       [0.33297262, 0.33240137, 0.334626  ],\n",
       "       [0.33691162, 0.3303363 , 0.3327521 ],\n",
       "       [0.33297262, 0.33240137, 0.334626  ],\n",
       "       [0.33180666, 0.33524385, 0.3329494 ],\n",
       "       [0.33180666, 0.33524385, 0.3329494 ],\n",
       "       [0.33180666, 0.33524385, 0.3329494 ],\n",
       "       [0.333891  , 0.33407104, 0.3320379 ],\n",
       "       [0.33935627, 0.33171025, 0.3289335 ],\n",
       "       [0.33153898, 0.33892465, 0.32953638],\n",
       "       [0.33716965, 0.33371356, 0.3291168 ],\n",
       "       [0.3353806 , 0.33505246, 0.32956702],\n",
       "       [0.33291715, 0.3388882 , 0.3281946 ],\n",
       "       [0.3363014 , 0.33323178, 0.33046693],\n",
       "       [0.33651927, 0.33332735, 0.33015335],\n",
       "       [0.33623615, 0.33308902, 0.33067483],\n",
       "       [0.33758166, 0.33200124, 0.33041707],\n",
       "       [0.33543116, 0.33379745, 0.33077136],\n",
       "       [0.3363095 , 0.33429548, 0.329395  ],\n",
       "       [0.33573854, 0.333131  , 0.3311305 ],\n",
       "       [0.33183292, 0.33551252, 0.3326546 ],\n",
       "       [0.33180666, 0.33524385, 0.3329494 ],\n",
       "       [0.33180666, 0.33524385, 0.3329494 ],\n",
       "       [0.333891  , 0.33407104, 0.3320379 ],\n",
       "       [0.34013373, 0.3302815 , 0.32958478]], dtype=float32)"
      ]
     },
     "execution_count": 136,
     "metadata": {},
     "output_type": "execute_result"
    }
   ],
   "source": [
    "Y_pred"
   ]
  },
  {
   "cell_type": "code",
   "execution_count": 41,
   "metadata": {},
   "outputs": [],
   "source": [
    "predictions = []\n",
    "for i in range (len(Y_pred)):\n",
    "  for j in range (4):\n",
    "      if (Y_pred[i][j] == Y_pred[i].max()):\n",
    "        predictions.append(j)\n",
    "predictions = np.array(predictions)"
   ]
  },
  {
   "cell_type": "code",
   "execution_count": 42,
   "metadata": {},
   "outputs": [
    {
     "name": "stdout",
     "output_type": "stream",
     "text": [
      "[0 1 2 2 0 2 1 2 0 0 0 0 0 2 1 2 0 0 2 0 1 1 0 2 0 1 0 0 1 0 0 1 2 1 0 1 0\n",
      " 2 1 0 1 0 0 0 0 1 1 0 0 1 1 1 0]\n",
      "[1 1 0 2 0 2 1 2 2 0 0 0 0 2 0 2 0 0 2 1 1 1 0 1 0 1 0 2 1 0 2 1 2 1 0 0 0\n",
      " 0 1 0 1 0 0 1 0 1 1 0 0 1 1 1 0]\n"
     ]
    }
   ],
   "source": [
    "print(Y_test)\n",
    "print(predictions)"
   ]
  },
  {
   "cell_type": "code",
   "execution_count": 43,
   "metadata": {},
   "outputs": [],
   "source": [
    "thresholds = []\n",
    "for i in range (len(Y_pred)):\n",
    "  for j in range (4):\n",
    "      if (Y_pred[i][j] >= 0.4):\n",
    "        thresholds.append(j)\n",
    "      else:\n",
    "        thresholds.append(9)\n",
    "thresholds = np.array(thresholds)"
   ]
  },
  {
   "cell_type": "code",
   "execution_count": 44,
   "metadata": {},
   "outputs": [
    {
     "data": {
      "text/plain": [
       "array([0, 1, 9, 9, 9, 1, 9, 9, 0, 9, 9, 9, 9, 9, 2, 9, 0, 9, 9, 9, 9, 9,\n",
       "       2, 9, 9, 1, 9, 9, 9, 9, 2, 9, 9, 9, 2, 9, 0, 9, 9, 9, 0, 9, 9, 9,\n",
       "       0, 9, 9, 9, 0, 9, 9, 9, 9, 9, 2, 9, 0, 9, 9, 9, 9, 9, 2, 9, 0, 9,\n",
       "       9, 9, 0, 9, 9, 9, 9, 9, 2, 9, 0, 1, 9, 9, 9, 1, 9, 9, 9, 1, 9, 9,\n",
       "       0, 9, 9, 9, 9, 1, 9, 9, 0, 9, 9, 9, 9, 1, 9, 9, 0, 9, 9, 9, 9, 9,\n",
       "       9, 9, 9, 1, 9, 9, 0, 9, 9, 9, 9, 9, 2, 9, 9, 1, 9, 9, 9, 9, 2, 9,\n",
       "       9, 1, 9, 9, 0, 9, 9, 9, 0, 9, 9, 9, 0, 9, 9, 9, 0, 9, 9, 9, 9, 1,\n",
       "       9, 9, 0, 9, 9, 9, 9, 1, 9, 9, 0, 9, 9, 9, 0, 9, 9, 9, 9, 1, 9, 9,\n",
       "       0, 9, 9, 9, 9, 1, 9, 9, 9, 1, 2, 9, 0, 9, 9, 9, 0, 9, 9, 9, 9, 1,\n",
       "       9, 9, 9, 1, 9, 9, 9, 1, 9, 9, 0, 9, 9, 9])"
      ]
     },
     "execution_count": 44,
     "metadata": {},
     "output_type": "execute_result"
    }
   ],
   "source": [
    "thresholds"
   ]
  },
  {
   "cell_type": "code",
   "execution_count": 45,
   "metadata": {},
   "outputs": [
    {
     "name": "stdout",
     "output_type": "stream",
     "text": [
      "0.8288973384030418\n"
     ]
    }
   ],
   "source": [
    "from sklearn.ensemble import BaggingClassifier\n",
    "bgcl = BaggingClassifier(n_estimators=100, max_samples=.50 , oob_score=True)\n",
    "\n",
    "bgcl = bgcl.fit(X, Y)\n",
    "print(bgcl.oob_score_)"
   ]
  },
  {
   "cell_type": "code",
   "execution_count": 46,
   "metadata": {},
   "outputs": [],
   "source": [
    "from sklearn.ensemble import AdaBoostClassifier\n",
    "abcl = AdaBoostClassifier( n_estimators=50, random_state=1)\n",
    "#abcl = AdaBoostClassifier(n_estimators=50)\n",
    "abcl = abcl.fit(X_train, Y_train)"
   ]
  },
  {
   "cell_type": "code",
   "execution_count": 47,
   "metadata": {},
   "outputs": [
    {
     "data": {
      "text/plain": [
       "0.6415094339622641"
      ]
     },
     "execution_count": 47,
     "metadata": {},
     "output_type": "execute_result"
    }
   ],
   "source": [
    "test_pred = abcl.predict(X_test)\n",
    "abcl.score(X_test , Y_test)"
   ]
  },
  {
   "cell_type": "code",
   "execution_count": 48,
   "metadata": {},
   "outputs": [],
   "source": [
    "from sklearn.ensemble import GradientBoostingClassifier"
   ]
  },
  {
   "cell_type": "code",
   "execution_count": 49,
   "metadata": {},
   "outputs": [],
   "source": [
    "gbcl = GradientBoostingClassifier(n_estimators = 50, learning_rate = 0.09, max_depth=5)\n",
    "gbcl = gbcl.fit(X_train, Y_train)"
   ]
  },
  {
   "cell_type": "code",
   "execution_count": 50,
   "metadata": {},
   "outputs": [
    {
     "data": {
      "text/plain": [
       "0.7547169811320755"
      ]
     },
     "execution_count": 50,
     "metadata": {},
     "output_type": "execute_result"
    }
   ],
   "source": [
    "test_pred = gbcl.predict(X_test)\n",
    "gbcl.score(X_test , Y_test)"
   ]
  },
  {
   "cell_type": "code",
   "execution_count": 51,
   "metadata": {},
   "outputs": [],
   "source": [
    "from sklearn.tree import DecisionTreeClassifier\n",
    "dt_model = DecisionTreeClassifier(criterion = 'entropy' )"
   ]
  },
  {
   "cell_type": "code",
   "execution_count": 52,
   "metadata": {},
   "outputs": [
    {
     "data": {
      "text/plain": [
       "DecisionTreeClassifier(criterion='entropy')"
      ]
     },
     "execution_count": 52,
     "metadata": {},
     "output_type": "execute_result"
    }
   ],
   "source": [
    "dt_model.fit(X_train, Y_train)"
   ]
  },
  {
   "cell_type": "code",
   "execution_count": 53,
   "metadata": {},
   "outputs": [
    {
     "data": {
      "text/plain": [
       "0.7169811320754716"
      ]
     },
     "execution_count": 53,
     "metadata": {},
     "output_type": "execute_result"
    }
   ],
   "source": [
    "dt_model.score(X_test , Y_test)"
   ]
  },
  {
   "cell_type": "code",
   "execution_count": null,
   "metadata": {},
   "outputs": [],
   "source": []
  },
  {
   "cell_type": "code",
   "execution_count": null,
   "metadata": {},
   "outputs": [],
   "source": []
  },
  {
   "cell_type": "code",
   "execution_count": null,
   "metadata": {},
   "outputs": [],
   "source": []
  }
 ],
 "metadata": {
  "kernelspec": {
   "display_name": "Python 3",
   "language": "python",
   "name": "python3"
  },
  "language_info": {
   "codemirror_mode": {
    "name": "ipython",
    "version": 3
   },
   "file_extension": ".py",
   "mimetype": "text/x-python",
   "name": "python",
   "nbconvert_exporter": "python",
   "pygments_lexer": "ipython3",
   "version": "3.8.5"
  }
 },
 "nbformat": 4,
 "nbformat_minor": 4
}
