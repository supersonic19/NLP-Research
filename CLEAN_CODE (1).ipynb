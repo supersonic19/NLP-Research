{
  "nbformat": 4,
  "nbformat_minor": 0,
  "metadata": {
    "colab": {
      "name": "CLEAN CODE.ipynb",
      "provenance": [],
      "collapsed_sections": [
        "0scDz74j9PcE",
        "4jqZY5lawzZc",
        "iOVCOrDNy1AW",
        "xISuZ91LjYM7",
        "nyZwyNpejil_",
        "li6zjPyKjk-k",
        "Dv8MKeCMjrpk",
        "lpWaoEkCwrRv",
        "cBeI6nSW2Ib6",
        "u_YKMrKz2Rru",
        "__O7tCIfOA4w",
        "DyqK7M4vkK50",
        "ZRqPWYwfkV1q",
        "DBnXH2gvii5x",
        "GpWLM38SynXP",
        "S2vwKJIk0Nw9",
        "Cq0IK2UA10_R",
        "AlgABy-F2TBH",
        "YJvcJp1yvjsq",
        "BSai4Osyw7na",
        "7QtW2YtDwroW"
      ],
      "toc_visible": true
    },
    "kernelspec": {
      "display_name": "Python 3",
      "language": "python",
      "name": "python3"
    },
    "language_info": {
      "codemirror_mode": {
        "name": "ipython",
        "version": 3
      },
      "file_extension": ".py",
      "mimetype": "text/x-python",
      "name": "python",
      "nbconvert_exporter": "python",
      "pygments_lexer": "ipython3",
      "version": "3.8.5"
    }
  },
  "cells": [
    {
      "cell_type": "markdown",
      "metadata": {
        "id": "0scDz74j9PcE"
      },
      "source": [
        "#IMPORT LIBRARIES"
      ]
    },
    {
      "cell_type": "code",
      "metadata": {
        "id": "SfPKI4w32pmi"
      },
      "source": [
        "import os\n",
        "import pandas as pd\n",
        "import numpy as np\n",
        "import seaborn as sns\n",
        "import matplotlib.pyplot as plt\n",
        "from sklearn import preprocessing\n",
        "import nltk\n",
        "from nltk.stem import WordNetLemmatizer\n",
        "from nltk.corpus import wordnet\n",
        "from nltk.corpus import stopwords\n",
        "from sklearn.feature_extraction.text import CountVectorizer\n",
        "from sklearn.feature_extraction.text import TfidfTransformer\n",
        "from sklearn.feature_extraction.stop_words import ENGLISH_STOP_WORDS\n",
        "from sklearn.model_selection import KFold\n",
        "from wordcloud import WordCloud, STOPWORDS \n",
        "import matplotlib.pyplot as plt \n",
        "import re\n",
        "from nltk.stem.snowball import SnowballStemmer\n",
        "from sklearn.model_selection import GridSearchCV\n",
        "from sklearn.model_selection import train_test_split\n",
        "from sklearn.naive_bayes import MultinomialNB\n",
        "from sklearn.pipeline import Pipeline\n",
        "from tensorflow.keras.preprocessing.text import Tokenizer\n",
        "from tensorflow.keras.preprocessing.sequence import pad_sequences\n",
        "import tensorflow as tf\n",
        "from keras.layers.embeddings import Embedding\n",
        "from tensorflow.keras.models import Sequential\n",
        "from tensorflow.keras.layers import Dense, Embedding, LSTM, SpatialDropout1D\n",
        "from sklearn import metrics\n",
        "from sklearn.metrics import confusion_matrix\n",
        "from sklearn.metrics import classification_report\n",
        "from keras.layers import Bidirectional\n",
        "from contextlib import redirect_stdout\n",
        "with redirect_stdout(open(os.devnull, \"w\")):             ### Silence download progressing by re-directing to stdout\n",
        "   nltk.download('stopwords')\n",
        "   nltk.download('punkt')\n",
        "   nltk.download('averaged_perceptron_tagger')\n",
        "   nltk.download('wordnet')\n",
        "   from nltk.corpus import stopwords"
      ],
      "execution_count": null,
      "outputs": []
    },
    {
      "cell_type": "markdown",
      "metadata": {
        "id": "4jqZY5lawzZc"
      },
      "source": [
        "### Importing data"
      ]
    },
    {
      "cell_type": "code",
      "metadata": {
        "id": "4loW7Rep4cTr"
      },
      "source": [
        "def importing(filename): \n",
        "  path = filename + \".txt\"\n",
        "  \n",
        "  a_file = open(path, \"r\")\n",
        "  words = []\n",
        "  for line in a_file:\n",
        "      stripped_line = line.strip()\n",
        "      line_list = stripped_line\n",
        "      words.append(line_list)\n",
        "  a_file.close()\n",
        "  DF = pd.DataFrame()\n",
        "  DF[filename] = words\n",
        "  return DF\n"
      ],
      "execution_count": null,
      "outputs": []
    },
    {
      "cell_type": "markdown",
      "metadata": {
        "id": "iOVCOrDNy1AW"
      },
      "source": [
        "# PREPROCESSING"
      ]
    },
    {
      "cell_type": "markdown",
      "metadata": {
        "id": "xISuZ91LjYM7"
      },
      "source": [
        "## REMOVING STOPWORDS"
      ]
    },
    {
      "cell_type": "code",
      "metadata": {
        "id": "75NGCeWIGNBr"
      },
      "source": [
        "stop = set(stopwords.words('english'))\n",
        "\n",
        "lemmatizer = WordNetLemmatizer()"
      ],
      "execution_count": null,
      "outputs": []
    },
    {
      "cell_type": "code",
      "metadata": {
        "id": "RtKI_Y1vGQjq"
      },
      "source": [
        "# function to convert nltk tag to wordnet tag\n",
        "def nltk_tag_to_wordnet_tag(nltk_tag):\n",
        "    if nltk_tag.startswith('J'):\n",
        "        return wordnet.ADJ\n",
        "    elif nltk_tag.startswith('V'):\n",
        "        return wordnet.VERB\n",
        "    elif nltk_tag.startswith('N'):\n",
        "        return wordnet.NOUN\n",
        "    elif nltk_tag.startswith('R'):\n",
        "        return wordnet.ADV\n",
        "    else:          \n",
        "        return None"
      ],
      "execution_count": null,
      "outputs": []
    },
    {
      "cell_type": "markdown",
      "metadata": {
        "id": "nyZwyNpejil_"
      },
      "source": [
        "## LEMMATIZE"
      ]
    },
    {
      "cell_type": "code",
      "metadata": {
        "id": "aPGGKSoVHXCu"
      },
      "source": [
        "#lemmatization \n",
        "def lemmatize_sentence(sentence):\n",
        "\n",
        "    #tokenize the sentence and find the POS tag for each token\n",
        "    nltk_tagged = nltk.pos_tag(nltk.word_tokenize(sentence))  \n",
        "    \n",
        "    #tuple of (token, wordnet_tag)\n",
        "\n",
        "    wordnet_tagged = map(lambda x: (x[0], nltk_tag_to_wordnet_tag(x[1])), nltk_tagged)\n",
        "    lemmatized_sentence = []\n",
        "    for word, tag in wordnet_tagged:\n",
        "        if tag is None:\n",
        "            #if there is no available tag, append the token as is\n",
        "            lemmatized_sentence.append(word)\n",
        "        else:        \n",
        "            #else use the tag to lemmatize the token\n",
        "            lemmatized_sentence.append(lemmatizer.lemmatize(word, tag))\n",
        "    return \" \".join(lemmatized_sentence)"
      ],
      "execution_count": null,
      "outputs": []
    },
    {
      "cell_type": "markdown",
      "metadata": {
        "id": "li6zjPyKjk-k"
      },
      "source": [
        "## REMOVING BLANK LINES"
      ]
    },
    {
      "cell_type": "code",
      "metadata": {
        "id": "6Hma6uCE1kE6"
      },
      "source": [
        "def removing_lines(df):\n",
        "  col = df.columns[0]\n",
        "  df.dropna(inplace = True)\n",
        "  df.drop([], inplace = True)\n",
        "  df = df[~df[col].str.len().eq(0)]\n",
        "\n",
        "  return df"
      ],
      "execution_count": null,
      "outputs": []
    },
    {
      "cell_type": "markdown",
      "metadata": {
        "id": "Dv8MKeCMjrpk"
      },
      "source": [
        "## FINAL PREPROCESSING"
      ]
    },
    {
      "cell_type": "code",
      "metadata": {
        "id": "TczvKk85FHGC"
      },
      "source": [
        "def listToString(s):  \n",
        "    \n",
        "    # initialize an empty string \n",
        "    str1 = \" \"  \n",
        "    \n",
        "    # traverse in the string   \n",
        "    for ele in s:  \n",
        "        \n",
        "        str1 += ele   \n",
        "        str1+=' '\n",
        "\n",
        "    \n",
        "    # return string   \n",
        "    return str1  "
      ],
      "execution_count": null,
      "outputs": []
    },
    {
      "cell_type": "code",
      "metadata": {
        "id": "hrM8s3tLhihL"
      },
      "source": [
        "# function to identify & remove unwanted characters from text in \"Combined Description\"\n",
        "\n",
        "def preprocess(data):\n",
        "    \n",
        "    temp1 =[]\n",
        "    col = data.columns[0]\n",
        "    for sentence in data[col]:\n",
        "        sentence = sentence.lower() #lower case\n",
        "        cleanr = re.compile('<.*?>')\n",
        "        sentence = re.sub(cleanr, ' ', sentence)        #removing HTML tags\n",
        "        sentence = re.sub(r'\\S+@\\S+', 'EmailId', sentence)#removing mail ids\n",
        "        sentence = re.sub(r'\\S+@\\S+', 'https', sentence)#removing https\n",
        "        sentence = re.sub(r'\\S+@\\S+', 'http', sentence)#removing http\n",
        "        sentence = re.sub(r'\\'', '', sentence, re.I|re.A)\n",
        "        sentence = re.sub(r'[0-9]', '', sentence, re.I|re.A)\n",
        "        sentence = re.sub(r'[^a-zA-Z0-9\\s]', ' ', sentence)\n",
        "        sentence = sentence.lower()\n",
        "        sentence = re.sub(r'com ', ' ', sentence, re.I|re.A)\n",
        "        sentence = re.sub(r'Subject: ', ' ', sentence, re.I|re.A)\n",
        "        sentence = re.sub(r'\\[cid:(.*)]', ' ', sentence, re.I|re.A)\n",
        "        sentence = re.sub(r'hello ', ' ', sentence, re.I|re.A)\n",
        "        #sentence = re.sub(r'The information(.*)infection', ' ', sentence, re.I|re.A)  # footer\n",
        "        #sentence = re.sub(r'Endava Limited is a company(.*)or omissions', ' ', sentence,  re.I|re.A)  # footer\n",
        "        #sentence = re.sub(r'The information in this email is confidential and may be legally(.*)interference if you are not the intended recipient', ' ', sentence, re.I|re.A)  # footer\n",
        "        #sentence = re.sub(r'select the following link to view the disclaimer in an alternate language.', ' ', sentence, re.I|re.A)  # disclaimer footer\n",
        "        l_sentence = lemmatize_sentence(sentence)\n",
        "\n",
        "        words = [word for word in l_sentence.split() if word not in stopwords.words('english')]\n",
        "        temp1.append(words)\n",
        "        \n",
        "    temp = []\n",
        "    for sentence in temp1:\n",
        "      \n",
        "      temp.append(listToString(sentence))\n",
        "    data[col] = temp\n",
        "    return data\n",
        "    #print (\"Sentence = \",sentence)"
      ],
      "execution_count": null,
      "outputs": []
    },
    {
      "cell_type": "markdown",
      "metadata": {
        "id": "lpWaoEkCwrRv"
      },
      "source": [
        "# WORD FREQUENCY"
      ]
    },
    {
      "cell_type": "code",
      "metadata": {
        "id": "_gFF72mK4cT3"
      },
      "source": [
        "def freq_words(x, terms = 30): \n",
        "    all_words = []\n",
        "    #all_words.append([text for text in x])\n",
        "    all_words = ' '.join([text for text in x]) \n",
        "    #[i.split() for i in all_words]\n",
        "    all_words = all_words.split() \n",
        "    fdist = nltk.FreqDist(all_words) \n",
        "    words_df = pd.DataFrame({'word':list(fdist.keys()), 'count':list(fdist.values())}) \n",
        "\n",
        "    # selecting top 20 most frequent words \n",
        "    d = words_df.nlargest(columns=\"count\", n = terms) \n",
        "\n",
        "    # visualize words and frequencies\n",
        "    plt.figure(figsize=(12,15)) \n",
        "    ax = sns.barplot(data=d, x= \"count\", y = \"word\") \n",
        "    ax.set(ylabel = 'Word') \n",
        "    plt.show()\n",
        "    return d\n",
        "# print 100 most frequent words"
      ],
      "execution_count": null,
      "outputs": []
    },
    {
      "cell_type": "markdown",
      "metadata": {
        "id": "cBeI6nSW2Ib6"
      },
      "source": [
        "# WORDCLOUD"
      ]
    },
    {
      "cell_type": "code",
      "metadata": {
        "id": "ckkqyTfZvZaO"
      },
      "source": [
        "# Python program to generate WordCloud \n",
        "def cloud(data):\n",
        "      \n",
        "    comment_words = '' \n",
        "    stopwords = set(STOPWORDS) \n",
        "      \n",
        "    # iterate through the csv file \n",
        "    for val in data: \n",
        "          \n",
        "        # typecaste each val to string \n",
        "        val = str(val) \n",
        "      \n",
        "        # split the value \n",
        "        tokens = val.split() \n",
        "          \n",
        "        # Converts each token into lowercase \n",
        "        for i in range(len(tokens)): \n",
        "            tokens[i] = tokens[i].lower() \n",
        "          \n",
        "        comment_words += \" \".join(tokens)+\" \"\n",
        "      \n",
        "    wordcloud = WordCloud(width = 800, height = 800, \n",
        "                    background_color ='white', \n",
        "                    stopwords = stopwords, \n",
        "                    min_font_size = 10).generate(comment_words) \n",
        "      \n",
        "    # plot the WordCloud image                        \n",
        "    plt.figure(figsize = (8, 8), facecolor = None) \n",
        "    plt.imshow(wordcloud) \n",
        "    plt.axis(\"off\") \n",
        "    plt.tight_layout(pad = 0) \n",
        "      \n",
        "    plt.show() "
      ],
      "execution_count": null,
      "outputs": []
    },
    {
      "cell_type": "markdown",
      "metadata": {
        "id": "u_YKMrKz2Rru"
      },
      "source": [
        "# BI GRAMS"
      ]
    },
    {
      "cell_type": "code",
      "metadata": {
        "id": "h72FRHRAxHTN"
      },
      "source": [
        "def bi_gram(data):\n",
        "  word_vectorizer = CountVectorizer(ngram_range=(2,2), analyzer='word')\n",
        "  sparse_matrix = word_vectorizer.fit_transform(data)\n",
        "  frequencies = sum(sparse_matrix).toarray()[0]\n",
        "  bi_grams_df = pd.DataFrame(frequencies, index=word_vectorizer.get_feature_names(), columns=['frequency'])\n",
        "  print(bi_grams_df.sort_values(by = \"frequency\",ascending=False).head(5))\n"
      ],
      "execution_count": null,
      "outputs": []
    },
    {
      "cell_type": "markdown",
      "metadata": {
        "id": "MdFNTcbstjo9"
      },
      "source": [
        "# TOKENIZE"
      ]
    },
    {
      "cell_type": "code",
      "metadata": {
        "id": "c_kLMS5it6aC"
      },
      "source": [
        "def get_all_words(df):\n",
        "  col = df.columns[0]\n",
        "  all_words = list()\n",
        "  for w in df[col]:\n",
        "      all_words.append(w)\n",
        "  vocab_size = len(set(all_words))  # There are 6655 words in total\n",
        "  print('Size of vocabulary: {}'.format(len(set(all_words))))\n",
        "  return all_words"
      ],
      "execution_count": null,
      "outputs": []
    },
    {
      "cell_type": "code",
      "metadata": {
        "id": "vVnnn26tuCen"
      },
      "source": [
        "def token(df):\n",
        "  col = df.columns[0]\n",
        "  vocab_size = len(set(all_words))\n",
        "  tokenizer = tf.keras.preprocessing.text.Tokenizer(num_words=vocab_size)\n",
        "  tokenizer.fit_on_texts(df[col])\n",
        "  X = tokenizer.texts_to_sequences(df[col])\n",
        "  X = pad_sequences(X, maxlen = len(set(all_words)))\n",
        "  y = np.asarray(df[col])\n",
        "\n",
        "  print(\"Number of Samples:\", len(X))\n",
        "  print(X[1])\n",
        "  print(\"Number of Labels: \", len(y))\n",
        "  print(y[1])\n",
        "  return X"
      ],
      "execution_count": null,
      "outputs": []
    },
    {
      "cell_type": "markdown",
      "metadata": {
        "id": "__O7tCIfOA4w"
      },
      "source": [
        "# LABEL ENCODE"
      ]
    },
    {
      "cell_type": "code",
      "metadata": {
        "id": "mt69nuoutyMj"
      },
      "source": [
        "def labelencoding(df):\n",
        "  col = df.columns[1]\n",
        "  encoder = preprocessing.LabelEncoder()\n",
        "  Y = encoder.fit_transform(df[col])\n",
        "  labelclasses = [0,1,2]\n",
        "  actual = encoder.inverse_transform(labelclasses)\n",
        "  print('The labels or each class are as follows:')\n",
        "  for i in labelclasses:\n",
        "    print(labelclasses[i], actual[i])\n",
        "  return Y"
      ],
      "execution_count": null,
      "outputs": []
    },
    {
      "cell_type": "markdown",
      "metadata": {
        "id": "DyqK7M4vkK50"
      },
      "source": [
        "# PIPELINE (FOR TRAIN DATA)"
      ]
    },
    {
      "cell_type": "markdown",
      "metadata": {
        "id": "ZRqPWYwfkV1q"
      },
      "source": [
        "## IMPORTING PIPELINE"
      ]
    },
    {
      "cell_type": "code",
      "metadata": {
        "id": "-ubdqT54kYqJ"
      },
      "source": [
        "drugs = importing('drugs')\n",
        "miso = importing('misogyny')\n",
        "violence = importing('violence')"
      ],
      "execution_count": null,
      "outputs": []
    },
    {
      "cell_type": "code",
      "metadata": {
        "colab": {
          "base_uri": "https://localhost:8080/",
          "height": 197
        },
        "id": "1ISIMG2VlRR3",
        "outputId": "ad1c3684-85b0-412c-d9f8-74d13908fe13"
      },
      "source": [
        "drugs.head()"
      ],
      "execution_count": null,
      "outputs": [
        {
          "output_type": "execute_result",
          "data": {
            "text/html": [
              "<div>\n",
              "<style scoped>\n",
              "    .dataframe tbody tr th:only-of-type {\n",
              "        vertical-align: middle;\n",
              "    }\n",
              "\n",
              "    .dataframe tbody tr th {\n",
              "        vertical-align: top;\n",
              "    }\n",
              "\n",
              "    .dataframe thead th {\n",
              "        text-align: right;\n",
              "    }\n",
              "</style>\n",
              "<table border=\"1\" class=\"dataframe\">\n",
              "  <thead>\n",
              "    <tr style=\"text-align: right;\">\n",
              "      <th></th>\n",
              "      <th>drugs</th>\n",
              "    </tr>\n",
              "  </thead>\n",
              "  <tbody>\n",
              "    <tr>\n",
              "      <th>0</th>\n",
              "      <td>I drink I smoke</td>\n",
              "    </tr>\n",
              "    <tr>\n",
              "      <th>1</th>\n",
              "      <td>Bitch I go harder sippin on patron till it tas...</td>\n",
              "    </tr>\n",
              "    <tr>\n",
              "      <th>2</th>\n",
              "      <td>I drink I smoke</td>\n",
              "    </tr>\n",
              "    <tr>\n",
              "      <th>3</th>\n",
              "      <td>And who the fuck care smoking on this kush til...</td>\n",
              "    </tr>\n",
              "    <tr>\n",
              "      <th>4</th>\n",
              "      <td>I drink I smoke</td>\n",
              "    </tr>\n",
              "  </tbody>\n",
              "</table>\n",
              "</div>"
            ],
            "text/plain": [
              "                                               drugs\n",
              "0                                    I drink I smoke\n",
              "1  Bitch I go harder sippin on patron till it tas...\n",
              "2                                    I drink I smoke\n",
              "3  And who the fuck care smoking on this kush til...\n",
              "4                                    I drink I smoke"
            ]
          },
          "metadata": {
            "tags": []
          },
          "execution_count": 96
        }
      ]
    },
    {
      "cell_type": "code",
      "metadata": {
        "colab": {
          "base_uri": "https://localhost:8080/",
          "height": 197
        },
        "id": "XJmxz4VOlnwQ",
        "outputId": "88102835-7eec-4b1f-999a-1f9a7a8abb2e"
      },
      "source": [
        "miso.head()"
      ],
      "execution_count": null,
      "outputs": [
        {
          "output_type": "execute_result",
          "data": {
            "text/html": [
              "<div>\n",
              "<style scoped>\n",
              "    .dataframe tbody tr th:only-of-type {\n",
              "        vertical-align: middle;\n",
              "    }\n",
              "\n",
              "    .dataframe tbody tr th {\n",
              "        vertical-align: top;\n",
              "    }\n",
              "\n",
              "    .dataframe thead th {\n",
              "        text-align: right;\n",
              "    }\n",
              "</style>\n",
              "<table border=\"1\" class=\"dataframe\">\n",
              "  <thead>\n",
              "    <tr style=\"text-align: right;\">\n",
              "      <th></th>\n",
              "      <th>misogyny</th>\n",
              "    </tr>\n",
              "  </thead>\n",
              "  <tbody>\n",
              "    <tr>\n",
              "      <th>0</th>\n",
              "      <td>Turn around bitch I got a use for you</td>\n",
              "    </tr>\n",
              "    <tr>\n",
              "      <th>1</th>\n",
              "      <td>Besides you ain't got nothin' better to do</td>\n",
              "    </tr>\n",
              "    <tr>\n",
              "      <th>2</th>\n",
              "      <td></td>\n",
              "    </tr>\n",
              "    <tr>\n",
              "      <th>3</th>\n",
              "      <td>Annie's twelve years old in two more she'll be...</td>\n",
              "    </tr>\n",
              "    <tr>\n",
              "      <th>4</th>\n",
              "      <td></td>\n",
              "    </tr>\n",
              "  </tbody>\n",
              "</table>\n",
              "</div>"
            ],
            "text/plain": [
              "                                            misogyny\n",
              "0              Turn around bitch I got a use for you\n",
              "1         Besides you ain't got nothin' better to do\n",
              "2                                                   \n",
              "3  Annie's twelve years old in two more she'll be...\n",
              "4                                                   "
            ]
          },
          "metadata": {
            "tags": []
          },
          "execution_count": 97
        }
      ]
    },
    {
      "cell_type": "code",
      "metadata": {
        "colab": {
          "base_uri": "https://localhost:8080/",
          "height": 197
        },
        "id": "OQNcNQRjlrmJ",
        "outputId": "3239a094-2056-49e7-e8aa-4bdec3a91941"
      },
      "source": [
        "violence.head()"
      ],
      "execution_count": null,
      "outputs": [
        {
          "output_type": "execute_result",
          "data": {
            "text/html": [
              "<div>\n",
              "<style scoped>\n",
              "    .dataframe tbody tr th:only-of-type {\n",
              "        vertical-align: middle;\n",
              "    }\n",
              "\n",
              "    .dataframe tbody tr th {\n",
              "        vertical-align: top;\n",
              "    }\n",
              "\n",
              "    .dataframe thead th {\n",
              "        text-align: right;\n",
              "    }\n",
              "</style>\n",
              "<table border=\"1\" class=\"dataframe\">\n",
              "  <thead>\n",
              "    <tr style=\"text-align: right;\">\n",
              "      <th></th>\n",
              "      <th>violence</th>\n",
              "    </tr>\n",
              "  </thead>\n",
              "  <tbody>\n",
              "    <tr>\n",
              "      <th>0</th>\n",
              "      <td>You and your husband have a fight/One of you t...</td>\n",
              "    </tr>\n",
              "    <tr>\n",
              "      <th>1</th>\n",
              "      <td></td>\n",
              "    </tr>\n",
              "    <tr>\n",
              "      <th>2</th>\n",
              "      <td>Plucked you like a chicken wit' your head cut ...</td>\n",
              "    </tr>\n",
              "    <tr>\n",
              "      <th>3</th>\n",
              "      <td></td>\n",
              "    </tr>\n",
              "    <tr>\n",
              "      <th>4</th>\n",
              "      <td>Dumped her body in the trash like I never knew...</td>\n",
              "    </tr>\n",
              "  </tbody>\n",
              "</table>\n",
              "</div>"
            ],
            "text/plain": [
              "                                            violence\n",
              "0  You and your husband have a fight/One of you t...\n",
              "1                                                   \n",
              "2  Plucked you like a chicken wit' your head cut ...\n",
              "3                                                   \n",
              "4  Dumped her body in the trash like I never knew..."
            ]
          },
          "metadata": {
            "tags": []
          },
          "execution_count": 98
        }
      ]
    },
    {
      "cell_type": "code",
      "metadata": {
        "id": "LgiS9MiYmCU9"
      },
      "source": [
        "df = pd.DataFrame()\n",
        "df['text'] = miso['misogyny']\n",
        "df['labels'] = 'misogyny'\n",
        "\n",
        "df2 = pd.DataFrame()\n",
        "df2['text'] = drugs['drugs']\n",
        "df2['labels'] = 'drugs'\n",
        "\n",
        "df = df.append(df2 , ignore_index=True)\n",
        "\n",
        "\n",
        "df3 = pd.DataFrame()\n",
        "df3['text'] = violence['violence']\n",
        "df3['labels'] = 'violence'\n",
        "df = df.append(df3 , ignore_index=True)\n"
      ],
      "execution_count": null,
      "outputs": []
    },
    {
      "cell_type": "markdown",
      "metadata": {
        "id": "DBnXH2gvii5x"
      },
      "source": [
        "##PREPROCESSING PIPELINE"
      ]
    },
    {
      "cell_type": "code",
      "metadata": {
        "id": "4bvxZbIGlwZw"
      },
      "source": [
        "df = removing_lines(df)\n",
        "df = preprocess(df)\n",
        "\n",
        "\n",
        "drugs = preprocess(drugs)\n",
        "miso = preprocess(miso)\n",
        "violence = preprocess(violence)"
      ],
      "execution_count": null,
      "outputs": []
    },
    {
      "cell_type": "markdown",
      "metadata": {
        "id": "GpWLM38SynXP"
      },
      "source": [
        "## VISUALIZATIONS PIPELINE"
      ]
    },
    {
      "cell_type": "code",
      "metadata": {
        "colab": {
          "base_uri": "https://localhost:8080/"
        },
        "id": "xzpIdC5v9GdA",
        "outputId": "d6152f30-d9ed-474e-ee0d-7659ac9a151f"
      },
      "source": [
        "bi_gram(miso['misogyny'])\n",
        "bi_gram(drugs['drugs'])\n",
        "bi_gram(violence['violence'])\n"
      ],
      "execution_count": null,
      "outputs": [
        {
          "output_type": "stream",
          "text": [
            "            frequency\n",
            "bitch aint          5\n",
            "even know           4\n",
            "aint shit           4\n",
            "aint even           3\n",
            "save phone          2\n",
            "             frequency\n",
            "im stoner           10\n",
            "smoke two            7\n",
            "stoner im            7\n",
            "drink smoke          6\n",
            "two joint            6\n",
            "                  frequency\n",
            "fo fun                    4\n",
            "murder fo                 4\n",
            "man murder                3\n",
            "get ta                    3\n",
            "accidentally get          2\n"
          ],
          "name": "stdout"
        }
      ]
    },
    {
      "cell_type": "code",
      "metadata": {
        "colab": {
          "base_uri": "https://localhost:8080/",
          "height": 1000
        },
        "id": "7pY_mdiM4cT7",
        "outputId": "833b55ea-e0ce-4594-9e45-9a66c6710548"
      },
      "source": [
        "print(\"Misogyny:\")\n",
        "d = freq_words(miso['misogyny'], 100)\n",
        "print(\"Drugs:\")\n",
        "e = freq_words(drugs['drugs'], 100)\n",
        "print(\"Violence:\")\n",
        "f = freq_words(violence['violence'], 100)"
      ],
      "execution_count": null,
      "outputs": [
        {
          "output_type": "stream",
          "text": [
            "Misogyny:\n"
          ],
          "name": "stdout"
        },
        {
          "output_type": "display_data",
          "data": {
            "image/png": "[encoded data removed]",
            "text/plain": [
              "<Figure size 864x1080 with 1 Axes>"
            ]
          },
          "metadata": {
            "tags": [],
            "needs_background": "light"
          }
        },
        {
          "output_type": "stream",
          "text": [
            "Drugs:\n"
          ],
          "name": "stdout"
        },
        {
          "output_type": "display_data",
          "data": {
            "image/png": "[encoded data removed]",
            "text/plain": [
              "<Figure size 864x1080 with 1 Axes>"
            ]
          },
          "metadata": {
            "tags": [],
            "needs_background": "light"
          }
        },
        {
          "output_type": "stream",
          "text": [
            "Violence:\n"
          ],
          "name": "stdout"
        },
        {
          "output_type": "display_data",
          "data": {
            "image/png": "[encoded data removed]",
            "text/plain": [
              "<Figure size 864x1080 with 1 Axes>"
            ]
          },
          "metadata": {
            "tags": [],
            "needs_background": "light"
          }
        }
      ]
    },
    {
      "cell_type": "code",
      "metadata": {
        "id": "T1KhQc4Slp4r"
      },
      "source": [
        ""
      ],
      "execution_count": null,
      "outputs": []
    },
    {
      "cell_type": "markdown",
      "metadata": {
        "id": "S2vwKJIk0Nw9"
      },
      "source": [
        "## TOKENIZATION"
      ]
    },
    {
      "cell_type": "code",
      "metadata": {
        "colab": {
          "base_uri": "https://localhost:8080/"
        },
        "id": "JjB3jUNP0UeB",
        "outputId": "9a6e88a9-88e7-4c62-d7d8-424bb5cf1712"
      },
      "source": [
        "all_words = get_all_words(df)\n",
        "X = token(df)"
      ],
      "execution_count": null,
      "outputs": [
        {
          "output_type": "stream",
          "text": [
            "Size of vocabulary: 240\n",
            "Number of Samples: 263\n",
            "[  0   0   0   0   0   0   0   0   0   0   0   0   0   0   0   0   0   0\n",
            "   0   0   0   0   0   0   0   0   0   0   0   0   0   0   0   0   0   0\n",
            "   0   0   0   0   0   0   0   0   0   0   0   0   0   0   0   0   0   0\n",
            "   0   0   0   0   0   0   0   0   0   0   0   0   0   0   0   0   0   0\n",
            "   0   0   0   0   0   0   0   0   0   0   0   0   0   0   0   0   0   0\n",
            "   0   0   0   0   0   0   0   0   0   0   0   0   0   0   0   0   0   0\n",
            "   0   0   0   0   0   0   0   0   0   0   0   0   0   0   0   0   0   0\n",
            "   0   0   0   0   0   0   0   0   0   0   0   0   0   0   0   0   0   0\n",
            "   0   0   0   0   0   0   0   0   0   0   0   0   0   0   0   0   0   0\n",
            "   0   0   0   0   0   0   0   0   0   0   0   0   0   0   0   0   0   0\n",
            "   0   0   0   0   0   0   0   0   0   0   0   0   0   0   0   0   0   0\n",
            "   0   0   0   0   0   0   0   0   0   0   0   0   0   0   0   0   0   0\n",
            "   0   0   0   0   0   0   0   0   0   0   0   0   0   0   0   0   0   0\n",
            "   0 226   8   1 227  39]\n",
            "Number of Labels:  263\n",
            " besides aint get nothin good \n"
          ],
          "name": "stdout"
        }
      ]
    },
    {
      "cell_type": "markdown",
      "metadata": {
        "id": "Cq0IK2UA10_R"
      },
      "source": [
        "## LABEL ENCODING"
      ]
    },
    {
      "cell_type": "code",
      "metadata": {
        "colab": {
          "base_uri": "https://localhost:8080/"
        },
        "id": "q1DURwNS1-Uh",
        "outputId": "12f45a72-a575-4929-a327-a12e46a277d3"
      },
      "source": [
        "Y = labelencoding(df)"
      ],
      "execution_count": null,
      "outputs": [
        {
          "output_type": "stream",
          "text": [
            "The labels or each class are as follows:\n",
            "0 drugs\n",
            "1 misogyny\n",
            "2 violence\n"
          ],
          "name": "stdout"
        }
      ]
    },
    {
      "cell_type": "markdown",
      "metadata": {
        "id": "AlgABy-F2TBH"
      },
      "source": [
        "## TRAIN TEST SPLIT"
      ]
    },
    {
      "cell_type": "code",
      "metadata": {
        "colab": {
          "base_uri": "https://localhost:8080/"
        },
        "id": "0-KYmyhRuJ3E",
        "outputId": "30d76bf6-9344-4eb8-e9c8-28baacaea262"
      },
      "source": [
        "X_train, X_test, Y_train, Y_test = train_test_split(X,Y, test_size = 0.2, random_state = 42)\n",
        "print(X_train.shape,Y_train.shape)\n",
        "print(X_test.shape,Y_test.shape)"
      ],
      "execution_count": null,
      "outputs": [
        {
          "output_type": "stream",
          "text": [
            "(210, 240) (210,)\n",
            "(53, 240) (53,)\n"
          ],
          "name": "stdout"
        }
      ]
    },
    {
      "cell_type": "code",
      "metadata": {
        "id": "kQaQ-dkTvHB1"
      },
      "source": [
        ""
      ],
      "execution_count": null,
      "outputs": []
    },
    {
      "cell_type": "markdown",
      "metadata": {
        "id": "YJvcJp1yvjsq"
      },
      "source": [
        "# MODEL"
      ]
    },
    {
      "cell_type": "code",
      "metadata": {
        "colab": {
          "base_uri": "https://localhost:8080/",
          "height": 767
        },
        "id": "s1mkR9NXvbq0",
        "outputId": "31a0906a-0771-4fbb-c4c7-5afe6f330d2b"
      },
      "source": [
        "embed_dim = 128\n",
        "lstm_out = 196\n",
        "Embedding(len(set(all_words)), 32, input_length= len(set(all_words)))\n",
        "model = Sequential()\n",
        "model.add(Embedding(len(set(all_words)),embed_dim,input_length = len(set(all_words))))\n",
        "model.add(SpatialDropout1D(0.4))\n",
        "model.add(LSTM(lstm_out, dropout=0.2, recurrent_dropout=0))\n",
        "model.add(Dense(3,activation='softmax'))\n",
        "model.compile(loss = 'sparse_categorical_crossentropy', optimizer='adam',metrics = ['accuracy'])\n",
        "print(model.summary())\n",
        "\n",
        "tf.keras.utils.plot_model(\n",
        "    model, to_file='model.png', show_shapes=False, show_dtype=False,\n",
        "    show_layer_names=True, rankdir='TB', expand_nested=False, dpi=96\n",
        ")"
      ],
      "execution_count": null,
      "outputs": [
        {
          "output_type": "stream",
          "text": [
            "Model: \"sequential_1\"\n",
            "_________________________________________________________________\n",
            "Layer (type)                 Output Shape              Param #   \n",
            "=================================================================\n",
            "embedding_2 (Embedding)      (None, 240, 128)          30720     \n",
            "_________________________________________________________________\n",
            "spatial_dropout1d (SpatialDr (None, 240, 128)          0         \n",
            "_________________________________________________________________\n",
            "lstm (LSTM)                  (None, 196)               254800    \n",
            "_________________________________________________________________\n",
            "dense (Dense)                (None, 3)                 591       \n",
            "=================================================================\n",
            "Total params: 286,111\n",
            "Trainable params: 286,111\n",
            "Non-trainable params: 0\n",
            "_________________________________________________________________\n",
            "None\n"
          ],
          "name": "stdout"
        },
        {
          "output_type": "execute_result",
          "data": {
            "image/png": "[encoded data removed]",
            "text/plain": [
              "<IPython.core.display.Image object>"
            ]
          },
          "metadata": {
            "tags": []
          },
          "execution_count": 115
        }
      ]
    },
    {
      "cell_type": "markdown",
      "metadata": {
        "id": "BSai4Osyw7na"
      },
      "source": [
        "#FIT DATA ON MODEL"
      ]
    },
    {
      "cell_type": "code",
      "metadata": {
        "colab": {
          "base_uri": "https://localhost:8080/"
        },
        "id": "-cZHrONfw2It",
        "outputId": "0af6d74e-da8f-4983-ef95-8bc95c4844b2"
      },
      "source": [
        "batch_size = 32\n",
        "history = model.fit(X_train, Y_train, validation_data=(X_test, Y_test), shuffle = True,  epochs = 20, batch_size= 50, verbose = 2)"
      ],
      "execution_count": null,
      "outputs": [
        {
          "output_type": "stream",
          "text": [
            "Epoch 1/20\n",
            "5/5 - 4s - loss: 1.0284 - accuracy: 0.4333 - val_loss: 1.0137 - val_accuracy: 0.5094\n",
            "Epoch 2/20\n",
            "5/5 - 4s - loss: 1.0120 - accuracy: 0.5190 - val_loss: 1.0073 - val_accuracy: 0.5849\n",
            "Epoch 3/20\n",
            "5/5 - 4s - loss: 0.9927 - accuracy: 0.5190 - val_loss: 0.9730 - val_accuracy: 0.4906\n",
            "Epoch 4/20\n",
            "5/5 - 4s - loss: 0.9838 - accuracy: 0.4810 - val_loss: 0.9554 - val_accuracy: 0.6038\n",
            "Epoch 5/20\n",
            "5/5 - 4s - loss: 0.9275 - accuracy: 0.6571 - val_loss: 0.9578 - val_accuracy: 0.5660\n",
            "Epoch 6/20\n",
            "5/5 - 4s - loss: 0.8916 - accuracy: 0.7762 - val_loss: 0.9001 - val_accuracy: 0.6792\n",
            "Epoch 7/20\n",
            "5/5 - 4s - loss: 0.8375 - accuracy: 0.7048 - val_loss: 0.8559 - val_accuracy: 0.6415\n",
            "Epoch 8/20\n",
            "5/5 - 4s - loss: 0.7692 - accuracy: 0.7524 - val_loss: 0.8102 - val_accuracy: 0.7170\n",
            "Epoch 9/20\n",
            "5/5 - 4s - loss: 0.6681 - accuracy: 0.8238 - val_loss: 0.7413 - val_accuracy: 0.7547\n",
            "Epoch 10/20\n",
            "5/5 - 4s - loss: 0.5714 - accuracy: 0.8476 - val_loss: 0.6831 - val_accuracy: 0.7736\n",
            "Epoch 11/20\n",
            "5/5 - 4s - loss: 0.5114 - accuracy: 0.8524 - val_loss: 0.6397 - val_accuracy: 0.8113\n",
            "Epoch 12/20\n",
            "5/5 - 4s - loss: 0.4384 - accuracy: 0.8810 - val_loss: 0.6264 - val_accuracy: 0.7547\n",
            "Epoch 13/20\n",
            "5/5 - 4s - loss: 0.3547 - accuracy: 0.9095 - val_loss: 0.6138 - val_accuracy: 0.7925\n",
            "Epoch 14/20\n",
            "5/5 - 4s - loss: 0.3754 - accuracy: 0.8571 - val_loss: 0.6076 - val_accuracy: 0.7736\n",
            "Epoch 15/20\n",
            "5/5 - 4s - loss: 0.3083 - accuracy: 0.9048 - val_loss: 0.6253 - val_accuracy: 0.7547\n",
            "Epoch 16/20\n",
            "5/5 - 4s - loss: 0.2679 - accuracy: 0.9286 - val_loss: 0.5933 - val_accuracy: 0.7736\n",
            "Epoch 17/20\n",
            "5/5 - 4s - loss: 0.2422 - accuracy: 0.9286 - val_loss: 0.5834 - val_accuracy: 0.8302\n",
            "Epoch 18/20\n",
            "5/5 - 4s - loss: 0.2353 - accuracy: 0.9238 - val_loss: 0.5879 - val_accuracy: 0.8113\n",
            "Epoch 19/20\n",
            "5/5 - 4s - loss: 0.2062 - accuracy: 0.9238 - val_loss: 0.5926 - val_accuracy: 0.7736\n",
            "Epoch 20/20\n",
            "5/5 - 4s - loss: 0.2062 - accuracy: 0.9333 - val_loss: 0.5833 - val_accuracy: 0.7925\n"
          ],
          "name": "stdout"
        }
      ]
    },
    {
      "cell_type": "markdown",
      "metadata": {
        "id": "63R_fR2mhRqe"
      },
      "source": [
        "# MODEL EVALUATION"
      ]
    },
    {
      "cell_type": "code",
      "metadata": {
        "colab": {
          "base_uri": "https://localhost:8080/",
          "height": 573
        },
        "id": "4G9GXJBzw9ph",
        "outputId": "4c6711ef-aa8d-49c9-ff86-4076b753a729"
      },
      "source": [
        "plt.plot(history.history['accuracy'])\n",
        "plt.plot(history.history['val_accuracy'])\n",
        "\n",
        "plt.title('model accuracy')\n",
        "plt.ylabel('accuracy')\n",
        "plt.xlabel('epoch')\n",
        "plt.legend(['train','test'], loc='upper left')\n",
        "plt.show()\n",
        "\n",
        "plt.plot(history.history['loss'])\n",
        "plt.plot(history.history['val_loss'])\n",
        "\n",
        "plt.title('model loss')\n",
        "plt.ylabel('loss')\n",
        "plt.xlabel('epoch')\n",
        "plt.legend(['train','test'], loc='upper left')\n",
        "plt.show()"
      ],
      "execution_count": null,
      "outputs": [
        {
          "output_type": "display_data",
          "data": {
            "image/png": "[encoded data removed]",
            "text/plain": [
              "<Figure size 432x288 with 1 Axes>"
            ]
          },
          "metadata": {
            "tags": [],
            "needs_background": "light"
          }
        },
        {
          "output_type": "display_data",
          "data": {
            "image/png": "[encoded data removed]",
            "text/plain": [
              "<Figure size 432x288 with 1 Axes>"
            ]
          },
          "metadata": {
            "tags": [],
            "needs_background": "light"
          }
        }
      ]
    },
    {
      "cell_type": "code",
      "metadata": {
        "colab": {
          "base_uri": "https://localhost:8080/",
          "height": 185
        },
        "id": "7Cukx-Szxmf2",
        "outputId": "0a34c7fe-e9c0-48a1-a1ec-d6415fd966be"
      },
      "source": [
        "print(metrics.classification_report (Y_test, np.argmax(Y_pred, axis = 1),zero_division=1,target_names=np.unique(encoder.inverse_transform(Y_test))))"
      ],
      "execution_count": null,
      "outputs": [
        {
          "output_type": "error",
          "ename": "NameError",
          "evalue": "ignored",
          "traceback": [
            "\u001b[0;31m---------------------------------------------------------------------------\u001b[0m",
            "\u001b[0;31mNameError\u001b[0m                                 Traceback (most recent call last)",
            "\u001b[0;32m<ipython-input-121-61418ebdca91>\u001b[0m in \u001b[0;36m<module>\u001b[0;34m()\u001b[0m\n\u001b[0;32m----> 1\u001b[0;31m \u001b[0mprint\u001b[0m\u001b[0;34m(\u001b[0m\u001b[0mmetrics\u001b[0m\u001b[0;34m.\u001b[0m\u001b[0mclassification_report\u001b[0m \u001b[0;34m(\u001b[0m\u001b[0mY_test\u001b[0m\u001b[0;34m,\u001b[0m \u001b[0mnp\u001b[0m\u001b[0;34m.\u001b[0m\u001b[0margmax\u001b[0m\u001b[0;34m(\u001b[0m\u001b[0mY_pred\u001b[0m\u001b[0;34m,\u001b[0m \u001b[0maxis\u001b[0m \u001b[0;34m=\u001b[0m \u001b[0;36m1\u001b[0m\u001b[0;34m)\u001b[0m\u001b[0;34m,\u001b[0m\u001b[0mzero_division\u001b[0m\u001b[0;34m=\u001b[0m\u001b[0;36m1\u001b[0m\u001b[0;34m,\u001b[0m\u001b[0mtarget_names\u001b[0m\u001b[0;34m=\u001b[0m\u001b[0mnp\u001b[0m\u001b[0;34m.\u001b[0m\u001b[0munique\u001b[0m\u001b[0;34m(\u001b[0m\u001b[0mencoder\u001b[0m\u001b[0;34m.\u001b[0m\u001b[0minverse_transform\u001b[0m\u001b[0;34m(\u001b[0m\u001b[0mY_test\u001b[0m\u001b[0;34m)\u001b[0m\u001b[0;34m)\u001b[0m\u001b[0;34m)\u001b[0m\u001b[0;34m)\u001b[0m\u001b[0;34m\u001b[0m\u001b[0;34m\u001b[0m\u001b[0m\n\u001b[0m",
            "\u001b[0;31mNameError\u001b[0m: name 'Y_pred' is not defined"
          ]
        }
      ]
    },
    {
      "cell_type": "code",
      "metadata": {
        "id": "2A8tmViQyJv6",
        "colab": {
          "base_uri": "https://localhost:8080/"
        },
        "outputId": "7dce2481-c346-4295-8353-e366744fa20c"
      },
      "source": [
        "Y_pred = model.predict(X_test, verbose=0)\n",
        "Y_pred"
      ],
      "execution_count": null,
      "outputs": [
        {
          "output_type": "execute_result",
          "data": {
            "text/plain": [
              "array([[5.06846666e-01, 3.66994292e-01, 1.26159027e-01],\n",
              "       [9.86846507e-01, 1.38011441e-04, 1.30155208e-02],\n",
              "       [1.00033022e-01, 7.79470801e-01, 1.20496206e-01],\n",
              "       [5.58663896e-06, 1.91036344e-03, 9.98084068e-01],\n",
              "       [2.64109694e-03, 9.45990026e-01, 5.13689555e-02],\n",
              "       [6.81873783e-02, 5.47974147e-02, 8.77015173e-01],\n",
              "       [7.24365473e-01, 1.50414884e-01, 1.25219598e-01],\n",
              "       [5.62355388e-04, 4.12127018e-01, 5.87310672e-01],\n",
              "       [1.74832731e-01, 4.03573811e-02, 7.84809947e-01],\n",
              "       [7.67937899e-02, 8.37283134e-01, 8.59231427e-02],\n",
              "       [1.04674678e-02, 9.70982611e-01, 1.85498670e-02],\n",
              "       [3.40166651e-02, 9.12971437e-01, 5.30118421e-02],\n",
              "       [1.09253846e-01, 7.83037126e-01, 1.07708946e-01],\n",
              "       [1.38476095e-03, 8.34912211e-02, 9.15124059e-01],\n",
              "       [9.53681692e-02, 8.13203573e-01, 9.14282799e-02],\n",
              "       [1.17750220e-01, 8.08503330e-02, 8.01399469e-01],\n",
              "       [7.91541338e-02, 7.62773931e-01, 1.58071905e-01],\n",
              "       [2.97146231e-01, 5.26768148e-01, 1.76085681e-01],\n",
              "       [2.87457317e-01, 1.55504510e-01, 5.57038128e-01],\n",
              "       [4.63820934e-01, 3.77750278e-01, 1.58428788e-01],\n",
              "       [9.98225510e-01, 2.79850326e-04, 1.49464665e-03],\n",
              "       [9.99985695e-01, 4.16743489e-07, 1.39859703e-05],\n",
              "       [1.36751158e-04, 9.97412026e-01, 2.45125219e-03],\n",
              "       [3.77674073e-01, 4.94220614e-01, 1.28105298e-01],\n",
              "       [3.40166651e-02, 9.12971437e-01, 5.30118421e-02],\n",
              "       [9.93642926e-01, 1.93679836e-04, 6.16339128e-03],\n",
              "       [1.65993188e-04, 9.96279895e-01, 3.55404452e-03],\n",
              "       [2.78788775e-01, 3.03478122e-01, 4.17733073e-01],\n",
              "       [6.03679478e-01, 6.99714795e-02, 3.26348990e-01],\n",
              "       [9.50145768e-05, 9.95574355e-01, 4.33056802e-03],\n",
              "       [3.97408195e-02, 1.58965550e-02, 9.44362640e-01],\n",
              "       [9.99776185e-01, 9.30871829e-06, 2.14502521e-04],\n",
              "       [2.75304937e-03, 2.78732050e-02, 9.69373822e-01],\n",
              "       [9.99746144e-01, 7.10710174e-06, 2.46721058e-04],\n",
              "       [4.50917557e-02, 9.06655908e-01, 4.82524149e-02],\n",
              "       [6.97159171e-02, 8.08391452e-01, 1.21892616e-01],\n",
              "       [1.38428877e-05, 9.97106373e-01, 2.87990482e-03],\n",
              "       [2.77564198e-01, 4.63733912e-01, 2.58701831e-01],\n",
              "       [9.36188877e-01, 7.10534817e-03, 5.67057319e-02],\n",
              "       [1.90750677e-02, 7.08143771e-01, 2.72781163e-01],\n",
              "       [9.88892972e-01, 2.70958734e-03, 8.39738082e-03],\n",
              "       [6.67794049e-03, 7.87514746e-01, 2.05807358e-01],\n",
              "       [3.85817816e-03, 9.81271684e-01, 1.48702050e-02],\n",
              "       [6.62630379e-01, 1.35534080e-02, 3.23816150e-01],\n",
              "       [2.34106346e-03, 9.88775730e-01, 8.88330303e-03],\n",
              "       [9.99551237e-01, 1.76361282e-05, 4.31156543e-04],\n",
              "       [7.61465549e-01, 8.16821083e-02, 1.56852320e-01],\n",
              "       [7.18895625e-03, 9.39307332e-01, 5.35037108e-02],\n",
              "       [3.75137315e-03, 9.24791396e-01, 7.14572370e-02],\n",
              "       [9.93647039e-01, 1.78045104e-03, 4.57248278e-03],\n",
              "       [8.49837363e-01, 8.35820436e-02, 6.65805638e-02],\n",
              "       [9.62505519e-01, 3.54092731e-03, 3.39535512e-02],\n",
              "       [3.40166651e-02, 9.12971437e-01, 5.30118421e-02]], dtype=float32)"
            ]
          },
          "metadata": {
            "tags": []
          },
          "execution_count": 122
        }
      ]
    },
    {
      "cell_type": "code",
      "metadata": {
        "id": "BmyvwnfNyS93"
      },
      "source": [
        "predictions = []\n",
        "for i in range (len(Y_pred)):\n",
        "  for j in range (3):\n",
        "      if (Y_pred[i][j] == Y_pred[i].max()):\n",
        "        predictions.append(j)\n",
        "predictions = np.array(predictions)"
      ],
      "execution_count": null,
      "outputs": []
    },
    {
      "cell_type": "code",
      "metadata": {
        "colab": {
          "base_uri": "https://localhost:8080/"
        },
        "id": "2Ga0XBkFzjOn",
        "outputId": "436f42d1-33d4-4cf8-f68e-c6edeebecb16"
      },
      "source": [
        "print(Y_test)\n",
        "print(predictions)"
      ],
      "execution_count": null,
      "outputs": [
        {
          "output_type": "stream",
          "text": [
            "[1 0 2 2 1 2 0 2 1 1 1 1 1 2 0 2 1 1 2 1 0 0 1 2 1 0 1 1 0 1 1 0 2 0 1 0 1\n",
            " 2 0 1 0 1 1 1 1 0 0 1 1 0 0 0 1]\n",
            "[0 0 1 2 1 2 0 2 2 1 1 1 1 2 1 2 1 1 2 0 0 0 1 1 1 0 1 2 0 1 2 0 2 0 1 1 1\n",
            " 1 0 1 0 1 1 0 1 0 0 1 1 0 0 0 1]\n"
          ],
          "name": "stdout"
        }
      ]
    },
    {
      "cell_type": "code",
      "metadata": {
        "id": "FCjJFQGSOahe"
      },
      "source": [
        "thresholds = []\n",
        "for i in range (len(Y_pred)):\n",
        "  for j in range (3):\n",
        "      if (Y_pred[i][j] >= 0.4):\n",
        "        thresholds.append(j)\n",
        "      else:\n",
        "        thresholds.append(9)\n",
        "thresholds = np.array(thresholds)"
      ],
      "execution_count": null,
      "outputs": []
    },
    {
      "cell_type": "code",
      "metadata": {
        "id": "yJ0xDRLjDKdP"
      },
      "source": [
        "thresholds = []\n",
        "flag = 0\n",
        "for i in range (len(Y_pred)):\n",
        "  for j in range (3):\n",
        "      if (Y_pred[i][j] >= 0.5):\n",
        "        thresholds.append(j)\n",
        "        flag = 1\n",
        "      \n",
        "  if (flag==0):\n",
        "    thresholds.append(9)\n",
        "  flag = 0\n",
        "thresholds = np.array(thresholds)"
      ],
      "execution_count": null,
      "outputs": []
    },
    {
      "cell_type": "code",
      "metadata": {
        "id": "u8S5zo2kY_zp",
        "colab": {
          "base_uri": "https://localhost:8080/"
        },
        "outputId": "69a72e86-ab05-4968-fea2-9038c7771e8f"
      },
      "source": [
        "thresholds"
      ],
      "execution_count": null,
      "outputs": [
        {
          "output_type": "execute_result",
          "data": {
            "text/plain": [
              "array([0, 0, 1, 2, 1, 2, 0, 2, 2, 1, 1, 1, 1, 2, 1, 2, 1, 1, 2, 9, 0, 0,\n",
              "       1, 9, 1, 0, 1, 9, 0, 1, 2, 0, 2, 0, 1, 1, 1, 9, 0, 1, 0, 1, 1, 0,\n",
              "       1, 0, 0, 1, 1, 0, 0, 0, 1])"
            ]
          },
          "metadata": {
            "tags": []
          },
          "execution_count": 134
        }
      ]
    },
    {
      "cell_type": "code",
      "metadata": {
        "id": "tpi4Bw3mZMp2"
      },
      "source": [
        "Y_pred"
      ],
      "execution_count": null,
      "outputs": []
    },
    {
      "cell_type": "markdown",
      "metadata": {
        "id": "JTpeCxp43WlR"
      },
      "source": [
        "# PIPELINE (FOR TESTING)"
      ]
    },
    {
      "cell_type": "code",
      "metadata": {
        "id": "NIU82dEK4Gvk"
      },
      "source": [
        "testdf = importing('drugsong')\n",
        "testdf = removing_lines(testdf)\n",
        "testdf = preprocess(testdf)"
      ],
      "execution_count": null,
      "outputs": []
    },
    {
      "cell_type": "code",
      "metadata": {
        "id": "ga26PdCZ4HJ1",
        "colab": {
          "base_uri": "https://localhost:8080/"
        },
        "outputId": "d204970d-3aa6-4a6b-9fec-6e91d351e199"
      },
      "source": [
        "bi_gram(testdf['drugsong'])"
      ],
      "execution_count": null,
      "outputs": [
        {
          "output_type": "stream",
          "text": [
            "             frequency\n",
            "touch light          2\n",
            "choke like           2\n",
            "baby im              2\n",
            "light chain          2\n",
            "like hate            2\n"
          ],
          "name": "stdout"
        }
      ]
    },
    {
      "cell_type": "code",
      "metadata": {
        "id": "Od9INB2p4Hgb",
        "colab": {
          "base_uri": "https://localhost:8080/"
        },
        "outputId": "2af23572-d071-4580-dfea-4c927e95c799"
      },
      "source": [
        "e = freq_words(testdf['drugsong'], 100)"
      ],
      "execution_count": null,
      "outputs": [
        {
          "output_type": "display_data",
          "data": {
            "image/png": "[encoded data removed]",
            "text/plain": [
              "<Figure size 864x1080 with 1 Axes>"
            ]
          },
          "metadata": {
            "tags": [],
            "needs_background": "light"
          }
        }
      ]
    },
    {
      "cell_type": "code",
      "metadata": {
        "id": "TfOmqkjxE5Fw"
      },
      "source": [
        "testdf = preprocess(testdf)"
      ],
      "execution_count": null,
      "outputs": []
    },
    {
      "cell_type": "code",
      "metadata": {
        "colab": {
          "base_uri": "https://localhost:8080/"
        },
        "id": "lKH44-cNFGd5",
        "outputId": "bac39cb6-abd6-4634-9ae5-e2b199e2bd6c"
      },
      "source": [
        "testdf.shape"
      ],
      "execution_count": null,
      "outputs": [
        {
          "output_type": "execute_result",
          "data": {
            "text/plain": [
              "(42, 1)"
            ]
          },
          "metadata": {
            "tags": []
          },
          "execution_count": 268
        }
      ]
    },
    {
      "cell_type": "code",
      "metadata": {
        "id": "bpU683j46rRf",
        "colab": {
          "base_uri": "https://localhost:8080/"
        },
        "outputId": "8009febc-92f0-4d37-c1c8-b5804cd36391"
      },
      "source": [
        "all_words = get_all_words(testdf)\n",
        "X = token(testdf)"
      ],
      "execution_count": null,
      "outputs": [
        {
          "output_type": "stream",
          "text": [
            "Size of vocabulary: 36\n",
            "Number of Samples: 42\n",
            "[0 0 0 0 0 0 0 0 0 0 0 0 0 0 0 0 0 0 0 0 0 0 0 0 0 0 0 0 0 0 0 0 0 0 0 7]\n",
            "Number of Labels:  42\n",
            " love \n"
          ],
          "name": "stdout"
        }
      ]
    },
    {
      "cell_type": "markdown",
      "metadata": {
        "id": "ySi0X9Wj7nMM"
      },
      "source": [
        "# PREDICT NEW SONG"
      ]
    },
    {
      "cell_type": "code",
      "metadata": {
        "colab": {
          "base_uri": "https://localhost:8080/"
        },
        "id": "5Nc3zOE27kdv",
        "outputId": "19db511c-cb7d-4866-df75-43da6cdc36ec"
      },
      "source": [
        "Y_pred = model.predict(X, verbose=0)\n",
        "Y_pred\n"
      ],
      "execution_count": null,
      "outputs": [
        {
          "output_type": "execute_result",
          "data": {
            "text/plain": [
              "array([[3.28633040e-01, 1.73477113e-01, 4.97889757e-01],\n",
              "       [3.90063763e-01, 3.81713003e-01, 2.28223264e-01],\n",
              "       [9.48041212e-03, 1.36564106e-01, 8.53955507e-01],\n",
              "       [2.71938927e-02, 9.31238353e-01, 4.15677987e-02],\n",
              "       [3.89942573e-03, 9.86340761e-01, 9.75976419e-03],\n",
              "       [2.81514615e-01, 1.78672653e-02, 7.00618148e-01],\n",
              "       [9.72414434e-01, 6.77714217e-03, 2.08083522e-02],\n",
              "       [8.62594545e-01, 2.27751341e-02, 1.14630245e-01],\n",
              "       [4.56399143e-01, 2.19351590e-01, 3.24249297e-01],\n",
              "       [5.88738583e-02, 8.19837451e-01, 1.21288694e-01],\n",
              "       [1.16522692e-01, 7.11525023e-01, 1.71952263e-01],\n",
              "       [9.98865724e-01, 5.96963182e-05, 1.07460970e-03],\n",
              "       [9.61715996e-01, 5.13174478e-03, 3.31522599e-02],\n",
              "       [1.75987661e-03, 9.84615266e-01, 1.36247557e-02],\n",
              "       [9.57917392e-01, 5.88542689e-03, 3.61972600e-02],\n",
              "       [2.51650423e-01, 4.51052755e-01, 2.97296792e-01],\n",
              "       [2.57530689e-01, 6.07595742e-01, 1.34873644e-01],\n",
              "       [2.77955225e-03, 9.73413408e-01, 2.38070562e-02],\n",
              "       [2.71133464e-02, 6.31419539e-01, 3.41467202e-01],\n",
              "       [8.74539241e-02, 4.48409885e-01, 4.64136183e-01],\n",
              "       [3.57581414e-02, 9.10820365e-01, 5.34214564e-02],\n",
              "       [2.67086029e-01, 5.59987128e-01, 1.72926828e-01],\n",
              "       [2.94871219e-02, 9.29675698e-01, 4.08371203e-02],\n",
              "       [2.00092092e-01, 5.36965072e-01, 2.62942851e-01],\n",
              "       [2.67086029e-01, 5.59987128e-01, 1.72926828e-01],\n",
              "       [2.67086029e-01, 5.59987128e-01, 1.72926828e-01],\n",
              "       [2.14095935e-01, 6.53054595e-01, 1.32849485e-01],\n",
              "       [2.67086029e-01, 5.59987128e-01, 1.72926828e-01],\n",
              "       [4.56399143e-01, 2.19351590e-01, 3.24249297e-01],\n",
              "       [3.57581414e-02, 9.10820365e-01, 5.34214564e-02],\n",
              "       [2.67086089e-01, 5.59987128e-01, 1.72926858e-01],\n",
              "       [2.67086089e-01, 5.59987128e-01, 1.72926858e-01],\n",
              "       [2.75146306e-01, 4.75164741e-01, 2.49688849e-01],\n",
              "       [2.67086029e-01, 5.59987128e-01, 1.72926828e-01],\n",
              "       [2.67086029e-01, 5.59987128e-01, 1.72926828e-01],\n",
              "       [2.71938927e-02, 9.31238353e-01, 4.15677987e-02],\n",
              "       [3.28633040e-01, 1.73477113e-01, 4.97889757e-01],\n",
              "       [3.90063763e-01, 3.81713003e-01, 2.28223264e-01],\n",
              "       [9.48041212e-03, 1.36564106e-01, 8.53955507e-01],\n",
              "       [2.71938927e-02, 9.31238353e-01, 4.15677987e-02],\n",
              "       [3.89942573e-03, 9.86340761e-01, 9.75976419e-03],\n",
              "       [2.81514615e-01, 1.78672653e-02, 7.00618148e-01]], dtype=float32)"
            ]
          },
          "metadata": {
            "tags": []
          },
          "execution_count": 270
        }
      ]
    },
    {
      "cell_type": "code",
      "metadata": {
        "id": "UyfDju9g8Nnm"
      },
      "source": [
        "thresholds = []\n",
        "flag = 0\n",
        "for i in range (len(Y_pred)):\n",
        "  for j in range (3):\n",
        "      if (Y_pred[i][j] >= 0.7):\n",
        "        thresholds.append(j)\n",
        "        flag = 1\n",
        "      \n",
        "  if (flag==0):\n",
        "    thresholds.append(9)\n",
        "  flag = 0\n",
        "thresholds = np.array(thresholds)"
      ],
      "execution_count": null,
      "outputs": []
    },
    {
      "cell_type": "code",
      "metadata": {
        "colab": {
          "base_uri": "https://localhost:8080/"
        },
        "id": "5Xu3nmPkGUQg",
        "outputId": "2d17e33c-81c7-4444-98ef-02eb3db352e2"
      },
      "source": [
        "thresholds"
      ],
      "execution_count": null,
      "outputs": [
        {
          "output_type": "execute_result",
          "data": {
            "text/plain": [
              "array([9, 9, 2, 1, 1, 2, 0, 0, 9, 1, 1, 0, 0, 1, 0, 9, 9, 1, 9, 9, 1, 9,\n",
              "       1, 9, 9, 9, 9, 9, 9, 1, 9, 9, 9, 9, 9, 1, 9, 9, 2, 1, 1, 2])"
            ]
          },
          "metadata": {
            "tags": []
          },
          "execution_count": 274
        }
      ]
    },
    {
      "cell_type": "code",
      "metadata": {
        "colab": {
          "base_uri": "https://localhost:8080/"
        },
        "id": "FNzg5pmMFumS",
        "outputId": "f2c9ad86-1db5-4383-ffcc-c5cfdcb4c8bf"
      },
      "source": [
        "count = 0\n",
        "count1 = 0\n",
        "count2 = 0 \n",
        "count9 = 0\n",
        "for i in thresholds:\n",
        "  if i == 1:\n",
        "    count+=1\n",
        "  elif i == 0: \n",
        "    count1+=1\n",
        "  elif i == 2:\n",
        "    count2+=1\n",
        "  elif i == 9:\n",
        "    count9+=1\n",
        "print(\"Misogyny count:\" , count)\n",
        "print(\"Drugs count:\" , count1)\n",
        "print(\"Violence count:\" , count2)\n",
        "print(\"Peace count:\" , count9)"
      ],
      "execution_count": null,
      "outputs": [
        {
          "output_type": "stream",
          "text": [
            "Misogyny count: 12\n",
            "Drugs count: 5\n",
            "Violence count: 4\n",
            "Peace count: 21\n"
          ],
          "name": "stdout"
        }
      ]
    },
    {
      "cell_type": "markdown",
      "metadata": {
        "id": "uX5DWJIJ8NrV"
      },
      "source": [
        "#USING K FOLD"
      ]
    },
    {
      "cell_type": "code",
      "metadata": {
        "id": "cVb0WcrV8jgS"
      },
      "source": [
        "from sklearn.ensemble import RandomForestRegressor"
      ],
      "execution_count": null,
      "outputs": []
    },
    {
      "cell_type": "code",
      "metadata": {
        "id": "RH5kddeQ8dNI"
      },
      "source": [
        "rf_reg = RandomForestRegressor()"
      ],
      "execution_count": null,
      "outputs": []
    },
    {
      "cell_type": "code",
      "metadata": {
        "id": "7uQ8JvXXZUoI"
      },
      "source": [
        "\n",
        "from sklearn.model_selection import cross_val_score, cross_val_predict\n",
        "cv_r2_scores_rf = cross_val_score(rf_reg, X, Y, cv=5,scoring='r2')"
      ],
      "execution_count": null,
      "outputs": []
    },
    {
      "cell_type": "code",
      "metadata": {
        "id": "nZzPp1A_8QW3"
      },
      "source": [
        "\n",
        "kf = KFold(n_splits = 5, shuffle = True)"
      ],
      "execution_count": null,
      "outputs": []
    },
    {
      "cell_type": "markdown",
      "metadata": {
        "id": "NdSho8rowrnl"
      },
      "source": [
        "BAGGING"
      ]
    },
    {
      "cell_type": "code",
      "metadata": {
        "id": "h0M6jI4Q89Rx"
      },
      "source": [
        "from sklearn.ensemble import BaggingClassifier\n",
        "bgcl = BaggingClassifier(n_estimators=100, max_samples=.50 , oob_score=True)\n",
        "\n",
        "bgcl = bgcl.fit(X, Y)\n",
        "print(bgcl.oob_score_)"
      ],
      "execution_count": null,
      "outputs": []
    },
    {
      "cell_type": "markdown",
      "metadata": {
        "id": "l1lzXXw5wrno"
      },
      "source": [
        "BOOSTING"
      ]
    },
    {
      "cell_type": "code",
      "metadata": {
        "id": "kV74HGv29J9h"
      },
      "source": [
        "from sklearn.ensemble import AdaBoostClassifier\n",
        "abcl = AdaBoostClassifier( n_estimators=50, random_state=1)\n",
        "#abcl = AdaBoostClassifier(n_estimators=50)\n",
        "abcl = abcl.fit(X_train, Y_train)"
      ],
      "execution_count": null,
      "outputs": []
    },
    {
      "cell_type": "code",
      "metadata": {
        "id": "NugPL-Ocwrnq"
      },
      "source": [
        "test_pred = abcl.predict(X_test)\n",
        "abcl.score(X_test , Y_test)"
      ],
      "execution_count": null,
      "outputs": []
    },
    {
      "cell_type": "markdown",
      "metadata": {
        "id": "-btouxKQwrnr"
      },
      "source": [
        "GRADIENT BOOSTING"
      ]
    },
    {
      "cell_type": "code",
      "metadata": {
        "id": "U_NxR89Bwrns"
      },
      "source": [
        "from sklearn.ensemble import GradientBoostingClassifier"
      ],
      "execution_count": null,
      "outputs": []
    },
    {
      "cell_type": "code",
      "metadata": {
        "id": "P-RljJWMwrnt"
      },
      "source": [
        "gbcl = GradientBoostingClassifier(n_estimators = 50, learning_rate = 0.09, max_depth=5)\n",
        "gbcl = gbcl.fit(X_train, Y_train)"
      ],
      "execution_count": null,
      "outputs": []
    },
    {
      "cell_type": "code",
      "metadata": {
        "id": "Gdi4b_KXwrnu"
      },
      "source": [
        "test_pred = gbcl.predict(X_test)\n",
        "gbcl.score(X_test , Y_test)"
      ],
      "execution_count": null,
      "outputs": []
    },
    {
      "cell_type": "code",
      "metadata": {
        "id": "jIBZPUCmwrnw"
      },
      "source": [
        "from sklearn.ensemble import RandomForestClassifier"
      ],
      "execution_count": null,
      "outputs": []
    },
    {
      "cell_type": "code",
      "metadata": {
        "id": "j20ERnwqwrnx"
      },
      "source": [
        "rfcl = RandomForestClassifier(n_estimators = 6)\n",
        "rfcl = rfcl.fit(X_train, Y_train)"
      ],
      "execution_count": null,
      "outputs": []
    },
    {
      "cell_type": "code",
      "metadata": {
        "id": "FplcnX4Zwrny"
      },
      "source": [
        "test_pred = rfcl.predict(X_test)\n",
        "rfcl.score(X_test , Y_test)"
      ],
      "execution_count": null,
      "outputs": []
    },
    {
      "cell_type": "code",
      "metadata": {
        "id": "HUw_BXWiwrn7"
      },
      "source": [
        "from sklearn.tree import DecisionTreeClassifier\n",
        "dt_model = DecisionTreeClassifier(criterion = 'entropy' )"
      ],
      "execution_count": null,
      "outputs": []
    },
    {
      "cell_type": "code",
      "metadata": {
        "id": "agRmG81SwroG"
      },
      "source": [
        "dt_model.fit(X_train, Y_train)"
      ],
      "execution_count": null,
      "outputs": []
    },
    {
      "cell_type": "code",
      "metadata": {
        "id": "KHtjZMJowroM"
      },
      "source": [
        "dt_model.score(X_test , Y_test)"
      ],
      "execution_count": null,
      "outputs": []
    },
    {
      "cell_type": "code",
      "metadata": {
        "id": "Y7UtShjrwroO"
      },
      "source": [
        "dt_model.score(X_train, Y_train) "
      ],
      "execution_count": null,
      "outputs": []
    },
    {
      "cell_type": "code",
      "metadata": {
        "id": "Ge02sP5KwroP"
      },
      "source": [
        "dt_model = DecisionTreeClassifier(criterion = 'entropy', class_weight={0:.5,1:.5}, max_depth = 3, min_samples_leaf=5 )\n",
        "dt_model.fit(X_train, Y_train)\n"
      ],
      "execution_count": null,
      "outputs": []
    },
    {
      "cell_type": "code",
      "metadata": {
        "id": "zdBXdxK3wroQ"
      },
      "source": [
        "dt_model.score(X_test , Y_test)"
      ],
      "execution_count": null,
      "outputs": []
    },
    {
      "cell_type": "code",
      "metadata": {
        "id": "AfNbRo3FwroR"
      },
      "source": [
        "dt_model.score(X_train, Y_train)"
      ],
      "execution_count": null,
      "outputs": []
    },
    {
      "cell_type": "code",
      "metadata": {
        "id": "6M6qVQS8wroS"
      },
      "source": [
        "gbcl = GradientBoostingClassifier(n_estimators = 50,learning_rate = 0.09, max_depth=5,algorithm = \"SAMME.R\")\n",
        "gbcl = gbcl.fit(X_train, Y_train)"
      ],
      "execution_count": null,
      "outputs": []
    },
    {
      "cell_type": "code",
      "metadata": {
        "id": "NJ7GLiBNwroU"
      },
      "source": [
        ""
      ],
      "execution_count": null,
      "outputs": []
    },
    {
      "cell_type": "code",
      "metadata": {
        "id": "63_MaxbCwroU"
      },
      "source": [
        ""
      ],
      "execution_count": null,
      "outputs": []
    },
    {
      "cell_type": "code",
      "metadata": {
        "id": "aF8V-uJxwroV"
      },
      "source": [
        ""
      ],
      "execution_count": null,
      "outputs": []
    },
    {
      "cell_type": "markdown",
      "metadata": {
        "id": "7QtW2YtDwroW"
      },
      "source": [
        "### TESTING FOR NEW SONG"
      ]
    },
    {
      "cell_type": "markdown",
      "metadata": {
        "id": "7ugEHRvIwroX"
      },
      "source": [
        ""
      ]
    },
    {
      "cell_type": "code",
      "metadata": {
        "id": "QFkE23ObwroZ",
        "outputId": "31a3fe5a-13a5-4427-e587-b1a29952c480"
      },
      "source": [
        "a_file = open(\"song.txt\" , \"r\") \n",
        "print(a_file)\n",
        "\n",
        "new = []\n",
        "\n",
        "for line in a_file:\n",
        "\n",
        "    stripped_line = line.strip()\n",
        "\n",
        "    line_list = stripped_line\n",
        "\n",
        "    new.append(line_list)\n",
        "\n",
        "a_file.close()\n",
        "\n",
        "DF_new= pd.DataFrame()\n",
        "DF_new['new'] = new\n",
        "\n",
        "\n",
        "\n",
        "#print(doroth_diags)\n"
      ],
      "execution_count": null,
      "outputs": [
        {
          "output_type": "stream",
          "text": [
            "<_io.TextIOWrapper name='song.txt' mode='r' encoding='cp1252'>\n"
          ],
          "name": "stdout"
        }
      ]
    },
    {
      "cell_type": "code",
      "metadata": {
        "id": "JFkTuh0jwroa",
        "outputId": "caa64b3a-1018-47a2-992a-760cbf159a26"
      },
      "source": [
        "DF_new"
      ],
      "execution_count": null,
      "outputs": [
        {
          "output_type": "execute_result",
          "data": {
            "text/html": [
              "<div>\n",
              "<style scoped>\n",
              "    .dataframe tbody tr th:only-of-type {\n",
              "        vertical-align: middle;\n",
              "    }\n",
              "\n",
              "    .dataframe tbody tr th {\n",
              "        vertical-align: top;\n",
              "    }\n",
              "\n",
              "    .dataframe thead th {\n",
              "        text-align: right;\n",
              "    }\n",
              "</style>\n",
              "<table border=\"1\" class=\"dataframe\">\n",
              "  <thead>\n",
              "    <tr style=\"text-align: right;\">\n",
              "      <th></th>\n",
              "      <th>new</th>\n",
              "    </tr>\n",
              "  </thead>\n",
              "  <tbody>\n",
              "    <tr>\n",
              "      <th>0</th>\n",
              "      <td>Ay yo, what it is</td>\n",
              "    </tr>\n",
              "    <tr>\n",
              "      <th>1</th>\n",
              "      <td>Everybody report to the motherfuckin' dance floor</td>\n",
              "    </tr>\n",
              "    <tr>\n",
              "      <th>2</th>\n",
              "      <td>With they motherfuckin' drinks</td>\n",
              "    </tr>\n",
              "    <tr>\n",
              "      <th>3</th>\n",
              "      <td>They wet ass pussies, they big fat asses and t...</td>\n",
              "    </tr>\n",
              "    <tr>\n",
              "      <th>4</th>\n",
              "      <td>'Cause I'm comin' for ya</td>\n",
              "    </tr>\n",
              "    <tr>\n",
              "      <th>...</th>\n",
              "      <td>...</td>\n",
              "    </tr>\n",
              "    <tr>\n",
              "      <th>59</th>\n",
              "      <td>My balls, my balls, suck on my balls</td>\n",
              "    </tr>\n",
              "    <tr>\n",
              "      <th>60</th>\n",
              "      <td>I got bitches all on my dick everyday (c'mon)</td>\n",
              "    </tr>\n",
              "    <tr>\n",
              "      <th>61</th>\n",
              "      <td>Suckin' on my balls (my balls), lickin' on my ...</td>\n",
              "    </tr>\n",
              "    <tr>\n",
              "      <th>62</th>\n",
              "      <td>Bitches, they know (yeah), stick it in their b...</td>\n",
              "    </tr>\n",
              "    <tr>\n",
              "      <th>63</th>\n",
              "      <td>My balls, my balls, suck on my balls (yeah)</td>\n",
              "    </tr>\n",
              "  </tbody>\n",
              "</table>\n",
              "<p>64 rows × 1 columns</p>\n",
              "</div>"
            ],
            "text/plain": [
              "                                                  new\n",
              "0                                   Ay yo, what it is\n",
              "1   Everybody report to the motherfuckin' dance floor\n",
              "2                      With they motherfuckin' drinks\n",
              "3   They wet ass pussies, they big fat asses and t...\n",
              "4                            'Cause I'm comin' for ya\n",
              "..                                                ...\n",
              "59               My balls, my balls, suck on my balls\n",
              "60      I got bitches all on my dick everyday (c'mon)\n",
              "61  Suckin' on my balls (my balls), lickin' on my ...\n",
              "62  Bitches, they know (yeah), stick it in their b...\n",
              "63        My balls, my balls, suck on my balls (yeah)\n",
              "\n",
              "[64 rows x 1 columns]"
            ]
          },
          "metadata": {
            "tags": []
          },
          "execution_count": 126
        }
      ]
    },
    {
      "cell_type": "code",
      "metadata": {
        "id": "iD1wlYNqwrod",
        "outputId": "3f3058c9-3169-4a52-e94c-6b7a6ee5b475"
      },
      "source": [
        "from contextlib import redirect_stdout\n",
        "with redirect_stdout(open(os.devnull, \"w\")):             ### Silence download progressing by re-directing to stdout\n",
        "   nltk.download('stopwords')\n",
        "   nltk.download('punkt')\n",
        "   nltk.download('averaged_perceptron_tagger')\n",
        "   nltk.download('wordnet')\n",
        "   from nltk.corpus import stopwords"
      ],
      "execution_count": null,
      "outputs": [
        {
          "output_type": "stream",
          "text": [
            "[nltk_data] Downloading package stopwords to\n",
            "[nltk_data]     C:\\Users\\rahul\\AppData\\Roaming\\nltk_data...\n",
            "[nltk_data]   Package stopwords is already up-to-date!\n",
            "[nltk_data] Downloading package punkt to\n",
            "[nltk_data]     C:\\Users\\rahul\\AppData\\Roaming\\nltk_data...\n",
            "[nltk_data]   Package punkt is already up-to-date!\n",
            "[nltk_data] Downloading package averaged_perceptron_tagger to\n",
            "[nltk_data]     C:\\Users\\rahul\\AppData\\Roaming\\nltk_data...\n",
            "[nltk_data]   Package averaged_perceptron_tagger is already up-to-\n",
            "[nltk_data]       date!\n",
            "[nltk_data] Downloading package wordnet to\n",
            "[nltk_data]     C:\\Users\\rahul\\AppData\\Roaming\\nltk_data...\n",
            "[nltk_data]   Package wordnet is already up-to-date!\n"
          ],
          "name": "stderr"
        }
      ]
    },
    {
      "cell_type": "code",
      "metadata": {
        "id": "4o2A5cFzwrog"
      },
      "source": [
        "stop = set(stopwords.words('english'))\n",
        "\n",
        "lemmatizer = WordNetLemmatizer()"
      ],
      "execution_count": null,
      "outputs": []
    },
    {
      "cell_type": "code",
      "metadata": {
        "id": "SlMWH_pswroi"
      },
      "source": [
        "# function to convert nltk tag to wordnet tag\n",
        "def nltk_tag_to_wordnet_tag(nltk_tag):\n",
        "    if nltk_tag.startswith('J'):\n",
        "        return wordnet.ADJ\n",
        "    elif nltk_tag.startswith('V'):\n",
        "        return wordnet.VERB\n",
        "    elif nltk_tag.startswith('N'):\n",
        "        return wordnet.NOUN\n",
        "    elif nltk_tag.startswith('R'):\n",
        "        return wordnet.ADV\n",
        "    else:          \n",
        "        return None"
      ],
      "execution_count": null,
      "outputs": []
    },
    {
      "cell_type": "code",
      "metadata": {
        "id": "RB_sBbO-wrok"
      },
      "source": [
        "#lemmatization \n",
        "def lemmatize_sentence(sentence):\n",
        "\n",
        "    #tokenize the sentence and find the POS tag for each token\n",
        "    nltk_tagged = nltk.pos_tag(nltk.word_tokenize(sentence))  \n",
        "    \n",
        "    #tuple of (token, wordnet_tag)\n",
        "\n",
        "    wordnet_tagged = map(lambda x: (x[0], nltk_tag_to_wordnet_tag(x[1])), nltk_tagged)\n",
        "    lemmatized_sentence = []\n",
        "    for word, tag in wordnet_tagged:\n",
        "        if tag is None:\n",
        "            #if there is no available tag, append the token as is\n",
        "            lemmatized_sentence.append(word)\n",
        "        else:        \n",
        "            #else use the tag to lemmatize the token\n",
        "            lemmatized_sentence.append(lemmatizer.lemmatize(word, tag))\n",
        "    return \" \".join(lemmatized_sentence)"
      ],
      "execution_count": null,
      "outputs": []
    },
    {
      "cell_type": "code",
      "metadata": {
        "id": "xtwfm_dCwroo"
      },
      "source": [
        "# function to identify & remove unwanted characters from text in \"Combined Description\"\n",
        "temp1 =[]\n",
        "for sentence in DF_new['new']:\n",
        "    sentence = sentence.lower() #lower case\n",
        "    cleanr = re.compile('<.*?>')\n",
        "    sentence = re.sub(cleanr, ' ', sentence)        #removing HTML tags\n",
        "    sentence = re.sub(r'\\S+@\\S+', 'EmailId', sentence)#removing mail ids\n",
        "    sentence = re.sub(r'\\S+@\\S+', 'https', sentence)#removing https\n",
        "    sentence = re.sub(r'\\S+@\\S+', 'http', sentence)#removing http\n",
        "    sentence = re.sub(r'\\'', '', sentence, re.I|re.A)\n",
        "    sentence = re.sub(r'[0-9]', '', sentence, re.I|re.A)\n",
        "    sentence = re.sub(r'[^a-zA-Z0-9\\s]', ' ', sentence)\n",
        "    sentence = sentence.lower()\n",
        "    sentence = re.sub(r'com ', ' ', sentence, re.I|re.A)\n",
        "    sentence = re.sub(r'Subject: ', ' ', sentence, re.I|re.A)\n",
        "    sentence = re.sub(r'\\[cid:(.*)]', ' ', sentence, re.I|re.A)\n",
        "    sentence = re.sub(r'hello ', ' ', sentence, re.I|re.A)\n",
        "    #sentence = re.sub(r'The information(.*)infection', ' ', sentence, re.I|re.A)  # footer\n",
        "    #sentence = re.sub(r'Endava Limited is a company(.*)or omissions', ' ', sentence,  re.I|re.A)  # footer\n",
        "    #sentence = re.sub(r'The information in this email is confidential and may be legally(.*)interference if you are not the intended recipient', ' ', sentence, re.I|re.A)  # footer\n",
        "    #sentence = re.sub(r'select the following link to view the disclaimer in an alternate language.', ' ', sentence, re.I|re.A)  # disclaimer footer\n",
        "    l_sentence = lemmatize_sentence(sentence)\n",
        "\n",
        "    words = [word for word in l_sentence.split() if word not in stopwords.words('english')]\n",
        "    temp1.append(words)\n",
        "\n",
        "    #print (\"Sentence = \",sentence)"
      ],
      "execution_count": null,
      "outputs": []
    },
    {
      "cell_type": "code",
      "metadata": {
        "id": "cO9yN1Hfwroq",
        "outputId": "fc8b12a6-263f-41b4-b014-b8289560141c"
      },
      "source": [
        "temp1"
      ],
      "execution_count": null,
      "outputs": [
        {
          "output_type": "execute_result",
          "data": {
            "text/plain": [
              "[['ay', 'yo'],\n",
              " ['everybody', 'report', 'motherfuckin', 'dance', 'floor'],\n",
              " ['motherfuckin', 'drink'],\n",
              " ['wet',\n",
              "  'ass',\n",
              "  'pussy',\n",
              "  'big',\n",
              "  'fat',\n",
              "  'ass',\n",
              "  'big',\n",
              "  'brown',\n",
              "  'titty',\n",
              "  'pepperoni',\n",
              "  'nipple'],\n",
              " ['cause', 'im', 'comin', 'ya'],\n",
              " ['fuck'],\n",
              " ['get', 'bitch', 'dick', 'everyday'],\n",
              " ['suckin', 'ball', 'lickin', 'ball'],\n",
              " ['bitch', 'know', 'stick', 'bootyhole'],\n",
              " ['ball', 'ball', 'suck', 'ball'],\n",
              " ['asshole', 'let', 'hit', 'booty', 'raw'],\n",
              " ['lickin', 'dick', 'suckin', 'ball', 'swallow'],\n",
              " ['beatin', 'pussy', 'wall', 'ground'],\n",
              " ['spinnin', 'round', 'round'],\n",
              " ['stack', 'get', 'shit'],\n",
              " ['swallow', 'nut', 'dick', 'butt'],\n",
              " ['beatin', 'thats', 'fuck', 'bitch'],\n",
              " ['get', 'bitch', 'dick', 'everyday'],\n",
              " ['suckin', 'ball', 'lickin', 'ball'],\n",
              " ['bitch', 'know', 'stick', 'bootyhole'],\n",
              " ['ball', 'ball', 'suck', 'ball'],\n",
              " ['yeah', 'bitch', 'dont', 'know', 'say'],\n",
              " ['love', 'fuckin', 'bitch'],\n",
              " ['fuck', 'em', 'ass', 'fuck', 'em', 'face'],\n",
              " ['fuck', 'em', 'pussy', 'hole'],\n",
              " ['thats', 'get'],\n",
              " ['slut', 'bitch', 'know', 'im'],\n",
              " ['roll', 'blunt', 'ho'],\n",
              " ['keep', 'dick', 'mouth', 'yeah'],\n",
              " ['dont', 'talkin', 'shit'],\n",
              " ['cause', 'aint', 'takin', 'shit', 'hell'],\n",
              " ['keep', 'mouth', 'mr', 'big', 'stuff', 'im', 'tokin'],\n",
              " ['say', 'hoe', 'uh', 'huh', 'give', 'dough'],\n",
              " ['wrap', 'around', 'toe', 'uh', 'huh', 'thats', 'sure', 'know'],\n",
              " ['get', 'ice', 'finger', 'icy'],\n",
              " ['bitch', 'good', 'win', 'em'],\n",
              " ['scoopin', 'em', 'like', 'kitty', 'litter'],\n",
              " ['call', 'jiggler'],\n",
              " ['get', 'bitch', 'dick', 'everyday'],\n",
              " ['suckin', 'ball', 'lickin', 'ball'],\n",
              " ['bitch', 'know', 'stick', 'bootyhole'],\n",
              " ['ball', 'ball', 'suck', 'ball'],\n",
              " ['yo', 'check', 'neck', 'im', 'beatin'],\n",
              " ['every', 'day', 'suckin', 'ball', 'im', 'countin', 'cash'],\n",
              " ['get', 'cash', 'flow', 'dick', 'hole'],\n",
              " ['every', 'time', 'bout', 'blast', 'say', 'guess', 'hoe'],\n",
              " ['cause', 'dont', 'fuck', 'slut', 'put', 'butt', 'butt'],\n",
              " ['want', 'nut', 'nut', 'mouth', 'yeah'],\n",
              " ['stuntin', 'like', 'daddy', 'hoe', 'caddy'],\n",
              " ['dick', 'aint', 'far', 'shabby', 'thats', 'hoe', 'want', 'badly'],\n",
              " ['blowin', 'celly', 'beggin', 'belly'],\n",
              " ['say', 'meet', 'telly', 'dont', 'forget', 'ky', 'jelly'],\n",
              " ['im', 'nasty', 'bos', 'motherfucker', 'catch', 'ruckers', 'game'],\n",
              " ['hoppin', 'caddy', 'hoe', 'cling', 'spaghetti', 'chain'],\n",
              " ['catch', 'parkin', 'lot', 'pimpin', 'hittin', 'switch'],\n",
              " ['get', 'girl', 'get', 'hoe', 'get', 'motherfuckin', 'bitch'],\n",
              " ['get', 'bitch', 'dick', 'everyday'],\n",
              " ['suckin', 'ball', 'lickin', 'ball'],\n",
              " ['bitch', 'know', 'stick', 'bootyhole'],\n",
              " ['ball', 'ball', 'suck', 'ball'],\n",
              " ['get', 'bitch', 'dick', 'everyday', 'cmon'],\n",
              " ['suckin', 'ball', 'ball', 'lickin', 'ball', 'ball'],\n",
              " ['bitch', 'know', 'yeah', 'stick', 'bootyhole'],\n",
              " ['ball', 'ball', 'suck', 'ball', 'yeah']]"
            ]
          },
          "metadata": {
            "tags": []
          },
          "execution_count": 132
        }
      ]
    },
    {
      "cell_type": "code",
      "metadata": {
        "id": "NFHWKtVHwros"
      },
      "source": [
        "def listToString(s):  \n",
        "    \n",
        "    # initialize an empty string \n",
        "    str1 = \" \"  \n",
        "    \n",
        "    # traverse in the string   \n",
        "    for ele in s:  \n",
        "        \n",
        "        str1 += ele   \n",
        "        str1+=' '\n",
        "\n",
        "    \n",
        "    # return string   \n",
        "    return str1  \n",
        "        \n",
        "        \n",
        "# Driver code     \n",
        "for sentence in range (len(temp1)):\n",
        "  DF_new['new'][sentence] = listToString(temp1[sentence])"
      ],
      "execution_count": null,
      "outputs": []
    },
    {
      "cell_type": "code",
      "metadata": {
        "id": "SEgmsLTawrov",
        "outputId": "946a1ee9-5475-4222-dfb5-b3381bff7b82"
      },
      "source": [
        "DF_new"
      ],
      "execution_count": null,
      "outputs": [
        {
          "output_type": "execute_result",
          "data": {
            "text/html": [
              "<div>\n",
              "<style scoped>\n",
              "    .dataframe tbody tr th:only-of-type {\n",
              "        vertical-align: middle;\n",
              "    }\n",
              "\n",
              "    .dataframe tbody tr th {\n",
              "        vertical-align: top;\n",
              "    }\n",
              "\n",
              "    .dataframe thead th {\n",
              "        text-align: right;\n",
              "    }\n",
              "</style>\n",
              "<table border=\"1\" class=\"dataframe\">\n",
              "  <thead>\n",
              "    <tr style=\"text-align: right;\">\n",
              "      <th></th>\n",
              "      <th>new</th>\n",
              "    </tr>\n",
              "  </thead>\n",
              "  <tbody>\n",
              "    <tr>\n",
              "      <th>0</th>\n",
              "      <td>ay yo</td>\n",
              "    </tr>\n",
              "    <tr>\n",
              "      <th>1</th>\n",
              "      <td>everybody report motherfuckin dance floor</td>\n",
              "    </tr>\n",
              "    <tr>\n",
              "      <th>2</th>\n",
              "      <td>motherfuckin drink</td>\n",
              "    </tr>\n",
              "    <tr>\n",
              "      <th>3</th>\n",
              "      <td>wet ass pussy big fat ass big brown titty pep...</td>\n",
              "    </tr>\n",
              "    <tr>\n",
              "      <th>4</th>\n",
              "      <td>cause im comin ya</td>\n",
              "    </tr>\n",
              "    <tr>\n",
              "      <th>...</th>\n",
              "      <td>...</td>\n",
              "    </tr>\n",
              "    <tr>\n",
              "      <th>59</th>\n",
              "      <td>ball ball suck ball</td>\n",
              "    </tr>\n",
              "    <tr>\n",
              "      <th>60</th>\n",
              "      <td>get bitch dick everyday cmon</td>\n",
              "    </tr>\n",
              "    <tr>\n",
              "      <th>61</th>\n",
              "      <td>suckin ball ball lickin ball ball</td>\n",
              "    </tr>\n",
              "    <tr>\n",
              "      <th>62</th>\n",
              "      <td>bitch know yeah stick bootyhole</td>\n",
              "    </tr>\n",
              "    <tr>\n",
              "      <th>63</th>\n",
              "      <td>ball ball suck ball yeah</td>\n",
              "    </tr>\n",
              "  </tbody>\n",
              "</table>\n",
              "<p>64 rows × 1 columns</p>\n",
              "</div>"
            ],
            "text/plain": [
              "                                                  new\n",
              "0                                              ay yo \n",
              "1          everybody report motherfuckin dance floor \n",
              "2                                 motherfuckin drink \n",
              "3    wet ass pussy big fat ass big brown titty pep...\n",
              "4                                  cause im comin ya \n",
              "..                                                ...\n",
              "59                               ball ball suck ball \n",
              "60                      get bitch dick everyday cmon \n",
              "61                 suckin ball ball lickin ball ball \n",
              "62                   bitch know yeah stick bootyhole \n",
              "63                          ball ball suck ball yeah \n",
              "\n",
              "[64 rows x 1 columns]"
            ]
          },
          "metadata": {
            "tags": []
          },
          "execution_count": 134
        }
      ]
    },
    {
      "cell_type": "code",
      "metadata": {
        "id": "D4tdMxtqwroy"
      },
      "source": [
        "all_words = list()\n",
        "for w in DF_new['new']:\n",
        "    all_words.append(w)"
      ],
      "execution_count": null,
      "outputs": []
    },
    {
      "cell_type": "code",
      "metadata": {
        "id": "v07AGoH-wro2",
        "outputId": "e849de7a-0b5e-403e-be9e-b9cedcdd6d7c"
      },
      "source": [
        "print('Size of vocabulary: {}'.format(len(set(all_words))))"
      ],
      "execution_count": null,
      "outputs": [
        {
          "output_type": "stream",
          "text": [
            "Size of vocabulary: 52\n"
          ],
          "name": "stdout"
        }
      ]
    },
    {
      "cell_type": "code",
      "metadata": {
        "id": "DZjmnZR3wrpA"
      },
      "source": [
        "index_dict = dict()\n",
        "count = 1\n",
        "index_dict['<unk>'] = 0\n",
        "for word in set(all_words):\n",
        "    index_dict[word] = count\n",
        "    count += 1"
      ],
      "execution_count": null,
      "outputs": []
    },
    {
      "cell_type": "code",
      "metadata": {
        "id": "pv-gs2hvwrpK",
        "outputId": "c152c55f-f490-41a1-9464-67fe1e322227"
      },
      "source": [
        "vocab_size = (len(set(all_words)))  # There are 6655 words in total\n",
        "tokenizer = tf.keras.preprocessing.text.Tokenizer(num_words=vocab_size)\n",
        "tokenizer.fit_on_texts(DF_new['new'])\n",
        "\n",
        "train_inputs = tokenizer.texts_to_sequences(DF_new['new'])\n",
        "sns.distplot([len(l) for l in train_inputs])"
      ],
      "execution_count": null,
      "outputs": [
        {
          "output_type": "stream",
          "text": [
            "C:\\Users\\rahul\\anaconda3\\lib\\site-packages\\seaborn\\distributions.py:2551: FutureWarning: `distplot` is a deprecated function and will be removed in a future version. Please adapt your code to use either `displot` (a figure-level function with similar flexibility) or `histplot` (an axes-level function for histograms).\n",
            "  warnings.warn(msg, FutureWarning)\n"
          ],
          "name": "stderr"
        },
        {
          "output_type": "execute_result",
          "data": {
            "text/plain": [
              "<AxesSubplot:ylabel='Density'>"
            ]
          },
          "metadata": {
            "tags": []
          },
          "execution_count": 138
        },
        {
          "output_type": "display_data",
          "data": {
            "image/png": "[encoded data removed]",
            "text/plain": [
              "<Figure size 432x288 with 1 Axes>"
            ]
          },
          "metadata": {
            "tags": [],
            "needs_background": "light"
          }
        }
      ]
    },
    {
      "cell_type": "code",
      "metadata": {
        "id": "zxNrZQ6owrpM",
        "outputId": "802fa51b-a81b-401d-b99c-8ad3dde74009"
      },
      "source": [
        "A = tokenizer.texts_to_sequences(DF_new['new'])\n",
        "A = pad_sequences(A, maxlen = len(set(all_words)))\n",
        "B = np.asarray(DF_new['new'])\n",
        "\n",
        "print(\"Number of Samples:\", len(A))\n",
        "print(A[18])\n",
        "print(\"Number of Labels: \", len(B))\n",
        "print(B[18])"
      ],
      "execution_count": null,
      "outputs": [
        {
          "output_type": "stream",
          "text": [
            "Number of Samples: 64\n",
            "[0 0 0 0 0 0 0 0 0 0 0 0 0 0 0 0 0 0 0 0 0 0 0 0 0 0 0 0 0 0 0 0 0 0 0 0 0\n",
            " 0 0 0 0 0 0 0 0 0 0 0 6 1 9 1]\n",
            "Number of Labels:  64\n",
            " suckin ball lickin ball \n"
          ],
          "name": "stdout"
        }
      ]
    },
    {
      "cell_type": "code",
      "metadata": {
        "id": "DZdsogN8wrpN",
        "outputId": "4cda0e4d-6a30-4976-f28b-89a0c770005e"
      },
      "source": [
        "Embedding((len(set(all_words))), 32, input_length= len(set(all_words)))"
      ],
      "execution_count": null,
      "outputs": [
        {
          "output_type": "execute_result",
          "data": {
            "text/plain": [
              "<tensorflow.python.keras.layers.embeddings.Embedding at 0x2b583f49250>"
            ]
          },
          "metadata": {
            "tags": []
          },
          "execution_count": 140
        }
      ]
    },
    {
      "cell_type": "code",
      "metadata": {
        "id": "g5V43NYdwrpP",
        "outputId": "baf69876-a76f-4c23-ad05-057c011855fb"
      },
      "source": [
        ""
      ],
      "execution_count": null,
      "outputs": [
        {
          "output_type": "stream",
          "text": [
            "Model: \"sequential_2\"\n",
            "_________________________________________________________________\n",
            "Layer (type)                 Output Shape              Param #   \n",
            "=================================================================\n",
            "embedding_4 (Embedding)      (None, 32, 128)           4096      \n",
            "_________________________________________________________________\n",
            "spatial_dropout1d_2 (Spatial (None, 32, 128)           0         \n",
            "_________________________________________________________________\n",
            "lstm_2 (LSTM)                (None, 196)               254800    \n",
            "_________________________________________________________________\n",
            "dense_2 (Dense)              (None, 3)                 591       \n",
            "=================================================================\n",
            "Total params: 259,487\n",
            "Trainable params: 259,487\n",
            "Non-trainable params: 0\n",
            "_________________________________________________________________\n",
            "None\n"
          ],
          "name": "stdout"
        }
      ]
    },
    {
      "cell_type": "code",
      "metadata": {
        "id": "33Z6V2YAwrpR"
      },
      "source": [
        "# predict probabilities for test set\n",
        "B_pred = model.predict(A, verbose=0)"
      ],
      "execution_count": null,
      "outputs": []
    },
    {
      "cell_type": "code",
      "metadata": {
        "scrolled": true,
        "id": "fVIUA44iwrpS",
        "outputId": "f59550be-76a4-48d3-f665-2cd3eb77a6cd"
      },
      "source": [
        "print(B_pred)"
      ],
      "execution_count": null,
      "outputs": [
        {
          "output_type": "stream",
          "text": [
            "[[5.71039319e-01 3.85305732e-01 4.05751914e-02 3.07983253e-03]\n",
            " [1.28555885e-02 2.91547719e-02 9.55814660e-01 2.17487407e-03]\n",
            " [2.13724241e-01 4.91394615e-03 7.77932763e-01 3.42899584e-03]\n",
            " [2.36814027e-03 9.92284358e-01 1.20766566e-03 4.13988763e-03]\n",
            " [1.21095516e-02 5.90104004e-03 9.81477737e-01 5.11657679e-04]\n",
            " [6.11547530e-01 3.19265336e-01 6.19415157e-02 7.24562351e-03]\n",
            " [1.61525968e-03 9.98287022e-01 8.89202693e-06 8.87866772e-05]\n",
            " [9.09771979e-01 3.84272053e-03 5.60890064e-02 3.02963331e-02]\n",
            " [6.82828575e-02 8.69422019e-01 4.95175533e-02 1.27775790e-02]\n",
            " [7.47401834e-01 1.52038112e-01 3.84513773e-02 6.21087141e-02]\n",
            " [1.67588741e-01 2.30692893e-01 5.98342180e-01 3.37616284e-03]\n",
            " [5.41524105e-02 9.21506047e-01 4.65853326e-03 1.96829364e-02]\n",
            " [7.87731171e-01 1.01775557e-01 1.06982008e-01 3.51124885e-03]\n",
            " [8.19303840e-03 7.76304456e-04 9.90593731e-01 4.36904113e-04]\n",
            " [2.37454325e-02 5.12019217e-01 4.62677151e-01 1.55816076e-03]\n",
            " [1.30145426e-03 9.95697498e-01 3.91924914e-05 2.96181627e-03]\n",
            " [9.86426473e-01 5.94109949e-03 3.07453360e-04 7.32494285e-03]\n",
            " [1.61525968e-03 9.98287022e-01 8.89202693e-06 8.87866772e-05]\n",
            " [9.09771979e-01 3.84272053e-03 5.60890064e-02 3.02963331e-02]\n",
            " [6.82828575e-02 8.69422019e-01 4.95175533e-02 1.27775790e-02]\n",
            " [7.47401834e-01 1.52038112e-01 3.84513773e-02 6.21087141e-02]\n",
            " [4.20210250e-02 6.29440472e-02 1.80968607e-03 8.93225253e-01]\n",
            " [9.45763230e-01 3.31780948e-02 1.92652065e-02 1.79339910e-03]\n",
            " [2.24937089e-02 9.59991157e-01 7.40376126e-05 1.74410474e-02]\n",
            " [9.23113227e-01 6.06670268e-02 3.04336543e-03 1.31762838e-02]\n",
            " [4.57222044e-01 1.39841855e-01 3.94744426e-01 8.19166191e-03]\n",
            " [3.04051042e-02 9.65980649e-01 1.54086528e-03 2.07332452e-03]\n",
            " [1.67588741e-01 2.30692893e-01 5.98342180e-01 3.37616284e-03]\n",
            " [3.80119687e-04 9.98079181e-01 4.58958530e-05 1.49470544e-03]\n",
            " [1.56203900e-02 1.50324330e-01 8.31928909e-01 2.12640828e-03]\n",
            " [6.72714831e-03 3.51684098e-03 9.88860786e-01 8.95246456e-04]\n",
            " [1.02850106e-02 9.50659811e-01 3.50625962e-02 3.99249978e-03]\n",
            " [2.71089286e-01 1.65527631e-02 6.56219199e-02 6.46736085e-01]\n",
            " [4.03451234e-01 1.67595278e-02 2.77304500e-01 3.02484721e-01]\n",
            " [1.47853509e-01 5.98489583e-01 2.50823051e-01 2.83376407e-03]\n",
            " [9.68053520e-01 2.02860665e-02 6.01307116e-03 5.64731425e-03]\n",
            " [2.19990790e-01 7.92483240e-02 6.55847371e-01 4.49135080e-02]\n",
            " [1.67588741e-01 2.30692893e-01 5.98342180e-01 3.37616284e-03]\n",
            " [1.61525968e-03 9.98287022e-01 8.89202693e-06 8.87866772e-05]\n",
            " [9.09771979e-01 3.84272053e-03 5.60890064e-02 3.02963331e-02]\n",
            " [6.82828575e-02 8.69422019e-01 4.95175533e-02 1.27775790e-02]\n",
            " [7.47401834e-01 1.52038112e-01 3.84513773e-02 6.21087141e-02]\n",
            " [1.46836013e-01 3.40567321e-01 5.09982705e-01 2.61390652e-03]\n",
            " [1.13583915e-02 6.49664737e-03 9.76364195e-01 5.78069082e-03]\n",
            " [7.25851278e-04 9.98902202e-01 1.37652998e-04 2.34175968e-04]\n",
            " [5.38784489e-02 1.81756392e-01 7.09950030e-01 5.44150695e-02]\n",
            " [5.07585779e-02 1.70362443e-01 3.07625509e-04 7.78571367e-01]\n",
            " [4.19583375e-04 9.98501182e-01 2.77936124e-05 1.05152314e-03]\n",
            " [4.69845057e-01 1.07597470e-01 2.49785766e-01 1.72771648e-01]\n",
            " [4.50178050e-02 7.88262784e-01 1.33217409e-01 3.35020199e-02]\n",
            " [1.67588741e-01 2.30692893e-01 5.98342180e-01 3.37616284e-03]\n",
            " [4.47996646e-01 1.42771825e-01 3.47293586e-01 6.19380958e-02]\n",
            " [1.18000619e-01 4.99312319e-02 8.29808354e-01 2.25984817e-03]\n",
            " [4.97111410e-01 2.95532465e-01 1.80214703e-01 2.71413792e-02]\n",
            " [3.11063111e-01 1.81183383e-01 5.00857413e-01 6.89616799e-03]\n",
            " [1.13116853e-01 8.65483761e-01 7.82679766e-03 1.35726556e-02]\n",
            " [1.61525968e-03 9.98287022e-01 8.89202693e-06 8.87866772e-05]\n",
            " [9.09771979e-01 3.84272053e-03 5.60890064e-02 3.02963331e-02]\n",
            " [6.82828575e-02 8.69422019e-01 4.95175533e-02 1.27775790e-02]\n",
            " [7.47401834e-01 1.52038112e-01 3.84513773e-02 6.21087141e-02]\n",
            " [1.61525968e-03 9.98287022e-01 8.89202693e-06 8.87866772e-05]\n",
            " [3.58568132e-01 8.90785456e-03 9.17223282e-03 6.23351753e-01]\n",
            " [2.11229064e-02 6.72777534e-01 1.14442697e-02 2.94655293e-01]\n",
            " [1.92488253e-01 1.08382478e-01 9.03645251e-03 6.90092802e-01]]\n"
          ],
          "name": "stdout"
        }
      ]
    },
    {
      "cell_type": "code",
      "metadata": {
        "id": "jR3iaGLEwrpT",
        "outputId": "15fdb877-1c11-4af3-dd10-44039e288eb9"
      },
      "source": [
        "DF_new.tail(10)"
      ],
      "execution_count": null,
      "outputs": [
        {
          "output_type": "execute_result",
          "data": {
            "text/html": [
              "<div>\n",
              "<style scoped>\n",
              "    .dataframe tbody tr th:only-of-type {\n",
              "        vertical-align: middle;\n",
              "    }\n",
              "\n",
              "    .dataframe tbody tr th {\n",
              "        vertical-align: top;\n",
              "    }\n",
              "\n",
              "    .dataframe thead th {\n",
              "        text-align: right;\n",
              "    }\n",
              "</style>\n",
              "<table border=\"1\" class=\"dataframe\">\n",
              "  <thead>\n",
              "    <tr style=\"text-align: right;\">\n",
              "      <th></th>\n",
              "      <th>new</th>\n",
              "    </tr>\n",
              "  </thead>\n",
              "  <tbody>\n",
              "    <tr>\n",
              "      <th>54</th>\n",
              "      <td>catch parkin lot pimpin hittin switch</td>\n",
              "    </tr>\n",
              "    <tr>\n",
              "      <th>55</th>\n",
              "      <td>get girl get hoe get motherfuckin bitch</td>\n",
              "    </tr>\n",
              "    <tr>\n",
              "      <th>56</th>\n",
              "      <td>get bitch dick everyday</td>\n",
              "    </tr>\n",
              "    <tr>\n",
              "      <th>57</th>\n",
              "      <td>suckin ball lickin ball</td>\n",
              "    </tr>\n",
              "    <tr>\n",
              "      <th>58</th>\n",
              "      <td>bitch know stick bootyhole</td>\n",
              "    </tr>\n",
              "    <tr>\n",
              "      <th>59</th>\n",
              "      <td>ball ball suck ball</td>\n",
              "    </tr>\n",
              "    <tr>\n",
              "      <th>60</th>\n",
              "      <td>get bitch dick everyday cmon</td>\n",
              "    </tr>\n",
              "    <tr>\n",
              "      <th>61</th>\n",
              "      <td>suckin ball ball lickin ball ball</td>\n",
              "    </tr>\n",
              "    <tr>\n",
              "      <th>62</th>\n",
              "      <td>bitch know yeah stick bootyhole</td>\n",
              "    </tr>\n",
              "    <tr>\n",
              "      <th>63</th>\n",
              "      <td>ball ball suck ball yeah</td>\n",
              "    </tr>\n",
              "  </tbody>\n",
              "</table>\n",
              "</div>"
            ],
            "text/plain": [
              "                                          new\n",
              "54     catch parkin lot pimpin hittin switch \n",
              "55   get girl get hoe get motherfuckin bitch \n",
              "56                   get bitch dick everyday \n",
              "57                   suckin ball lickin ball \n",
              "58                bitch know stick bootyhole \n",
              "59                       ball ball suck ball \n",
              "60              get bitch dick everyday cmon \n",
              "61         suckin ball ball lickin ball ball \n",
              "62           bitch know yeah stick bootyhole \n",
              "63                  ball ball suck ball yeah "
            ]
          },
          "metadata": {
            "tags": []
          },
          "execution_count": 152
        }
      ]
    },
    {
      "cell_type": "code",
      "metadata": {
        "id": "VIF8Yt30nqbI"
      },
      "source": [
        ""
      ],
      "execution_count": null,
      "outputs": []
    }
  ]
}